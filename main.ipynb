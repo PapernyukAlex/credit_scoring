{
 "cells": [
  {
   "cell_type": "code",
   "execution_count": 2,
   "metadata": {
    "colab": {
     "base_uri": "https://localhost:8080/"
    },
    "executionInfo": {
     "elapsed": 5213,
     "status": "ok",
     "timestamp": 1618183689191,
     "user": {
      "displayName": "да да",
      "photoUrl": "",
      "userId": "16305322804838559188"
     },
     "user_tz": -180
    },
    "id": "bd4Ok_kA_Cc9",
    "outputId": "a7000d5f-27ae-450f-bc0a-9a7bedebf8a0"
   },
   "outputs": [
    {
     "name": "stdout",
     "output_type": "stream",
     "text": [
      "Collecting eli5\n",
      "\u001b[?25l  Downloading https://files.pythonhosted.org/packages/d1/54/04cab6e1c0ae535bec93f795d8403fdf6caf66fa5a6512263202dbb14ea6/eli5-0.11.0-py2.py3-none-any.whl (106kB)\n",
      "\u001b[K     |████████████████████████████████| 112kB 5.9MB/s eta 0:00:01\n",
      "\u001b[?25hRequirement already satisfied: jinja2 in /usr/local/lib/python3.7/dist-packages (from eli5) (2.11.3)\n",
      "Requirement already satisfied: numpy>=1.9.0 in /usr/local/lib/python3.7/dist-packages (from eli5) (1.19.5)\n",
      "Requirement already satisfied: six in /usr/local/lib/python3.7/dist-packages (from eli5) (1.15.0)\n",
      "Requirement already satisfied: graphviz in /usr/local/lib/python3.7/dist-packages (from eli5) (0.10.1)\n",
      "Requirement already satisfied: attrs>16.0.0 in /usr/local/lib/python3.7/dist-packages (from eli5) (20.3.0)\n",
      "Requirement already satisfied: tabulate>=0.7.7 in /usr/local/lib/python3.7/dist-packages (from eli5) (0.8.9)\n",
      "Requirement already satisfied: scipy in /usr/local/lib/python3.7/dist-packages (from eli5) (1.4.1)\n",
      "Requirement already satisfied: scikit-learn>=0.20 in /usr/local/lib/python3.7/dist-packages (from eli5) (0.22.2.post1)\n",
      "Requirement already satisfied: MarkupSafe>=0.23 in /usr/local/lib/python3.7/dist-packages (from jinja2->eli5) (1.1.1)\n",
      "Requirement already satisfied: joblib>=0.11 in /usr/local/lib/python3.7/dist-packages (from scikit-learn>=0.20->eli5) (1.0.1)\n",
      "Installing collected packages: eli5\n",
      "Successfully installed eli5-0.11.0\n"
     ]
    }
   ],
   "source": [
    "!pip install eli5"
   ]
  },
  {
   "cell_type": "code",
   "execution_count": 3,
   "metadata": {
    "colab": {
     "base_uri": "https://localhost:8080/"
    },
    "executionInfo": {
     "elapsed": 15228,
     "status": "ok",
     "timestamp": 1618183700170,
     "user": {
      "displayName": "да да",
      "photoUrl": "",
      "userId": "16305322804838559188"
     },
     "user_tz": -180
    },
    "id": "sLV_61VX4rnC",
    "outputId": "260b452c-7c87-4e25-f44e-bfb757a918fb"
   },
   "outputs": [
    {
     "name": "stdout",
     "output_type": "stream",
     "text": [
      "Collecting catboost\n",
      "\u001b[?25l  Downloading https://files.pythonhosted.org/packages/47/80/8e9c57ec32dfed6ba2922bc5c96462cbf8596ce1a6f5de532ad1e43e53fe/catboost-0.25.1-cp37-none-manylinux1_x86_64.whl (67.3MB)\n",
      "\u001b[K     |████████████████████████████████| 67.3MB 104kB/s \n",
      "\u001b[?25hRequirement already satisfied: scipy in /usr/local/lib/python3.7/dist-packages (from catboost) (1.4.1)\n",
      "Requirement already satisfied: graphviz in /usr/local/lib/python3.7/dist-packages (from catboost) (0.10.1)\n",
      "Requirement already satisfied: six in /usr/local/lib/python3.7/dist-packages (from catboost) (1.15.0)\n",
      "Requirement already satisfied: plotly in /usr/local/lib/python3.7/dist-packages (from catboost) (4.4.1)\n",
      "Requirement already satisfied: numpy>=1.16.0 in /usr/local/lib/python3.7/dist-packages (from catboost) (1.19.5)\n",
      "Requirement already satisfied: pandas>=0.24.0 in /usr/local/lib/python3.7/dist-packages (from catboost) (1.1.5)\n",
      "Requirement already satisfied: matplotlib in /usr/local/lib/python3.7/dist-packages (from catboost) (3.2.2)\n",
      "Requirement already satisfied: retrying>=1.3.3 in /usr/local/lib/python3.7/dist-packages (from plotly->catboost) (1.3.3)\n",
      "Requirement already satisfied: pytz>=2017.2 in /usr/local/lib/python3.7/dist-packages (from pandas>=0.24.0->catboost) (2018.9)\n",
      "Requirement already satisfied: python-dateutil>=2.7.3 in /usr/local/lib/python3.7/dist-packages (from pandas>=0.24.0->catboost) (2.8.1)\n",
      "Requirement already satisfied: kiwisolver>=1.0.1 in /usr/local/lib/python3.7/dist-packages (from matplotlib->catboost) (1.3.1)\n",
      "Requirement already satisfied: cycler>=0.10 in /usr/local/lib/python3.7/dist-packages (from matplotlib->catboost) (0.10.0)\n",
      "Requirement already satisfied: pyparsing!=2.0.4,!=2.1.2,!=2.1.6,>=2.0.1 in /usr/local/lib/python3.7/dist-packages (from matplotlib->catboost) (2.4.7)\n",
      "Installing collected packages: catboost\n",
      "Successfully installed catboost-0.25.1\n"
     ]
    }
   ],
   "source": [
    "!pip install catboost"
   ]
  },
  {
   "cell_type": "code",
   "execution_count": 4,
   "metadata": {
    "colab": {
     "base_uri": "https://localhost:8080/"
    },
    "executionInfo": {
     "elapsed": 7763,
     "status": "ok",
     "timestamp": 1618183709776,
     "user": {
      "displayName": "да да",
      "photoUrl": "",
      "userId": "16305322804838559188"
     },
     "user_tz": -180
    },
    "id": "4p5KbrhxqfvE",
    "outputId": "8eac9590-ed9c-4d60-d4bb-eca1e9140cba"
   },
   "outputs": [
    {
     "name": "stderr",
     "output_type": "stream",
     "text": [
      "/usr/local/lib/python3.7/dist-packages/sklearn/externals/six.py:31: FutureWarning: The module is deprecated in version 0.21 and will be removed in version 0.23 since we've dropped support for Python 2.7. Please rely on the official version of six (https://pypi.org/project/six/).\n",
      "  \"(https://pypi.org/project/six/).\", FutureWarning)\n",
      "/usr/local/lib/python3.7/dist-packages/sklearn/utils/deprecation.py:144: FutureWarning: The sklearn.neighbors.base module is  deprecated in version 0.22 and will be removed in version 0.24. The corresponding classes / functions should instead be imported from sklearn.neighbors. Anything that cannot be imported from sklearn.neighbors is now part of the private API.\n",
      "  warnings.warn(message, FutureWarning)\n",
      "/usr/local/lib/python3.7/dist-packages/sklearn/utils/deprecation.py:144: FutureWarning: The sklearn.feature_selection.base module is  deprecated in version 0.22 and will be removed in version 0.24. The corresponding classes / functions should instead be imported from sklearn.feature_selection. Anything that cannot be imported from sklearn.feature_selection is now part of the private API.\n",
      "  warnings.warn(message, FutureWarning)\n"
     ]
    }
   ],
   "source": [
    "import pandas as pd\n",
    "import seaborn as sns\n",
    "import numpy as np\n",
    "import matplotlib.pyplot as plt\n",
    "from sklearn.linear_model import LogisticRegression\n",
    "from sklearn.model_selection import train_test_split, StratifiedShuffleSplit, GridSearchCV\n",
    "from sklearn.metrics import classification_report, precision_score, recall_score, confusion_matrix, make_scorer\n",
    "from sklearn.ensemble import RandomForestClassifier\n",
    "from sklearn.metrics import roc_auc_score, f1_score, classification_report, precision_score, recall_score\n",
    "from sklearn.preprocessing import StandardScaler, OneHotEncoder\n",
    "from sklearn.compose import ColumnTransformer\n",
    "\n",
    "from imblearn.over_sampling import RandomOverSampler\n",
    "from eli5.sklearn import PermutationImportance\n",
    "import eli5\n",
    "from lightgbm import LGBMClassifier\n",
    "from catboost import CatBoostClassifier\n",
    "import torch\n",
    "import torch.nn as nn\n",
    "import torch.optim as optim\n"
   ]
  },
  {
   "cell_type": "code",
   "execution_count": 5,
   "metadata": {
    "executionInfo": {
     "elapsed": 491,
     "status": "ok",
     "timestamp": 1618183712525,
     "user": {
      "displayName": "да да",
      "photoUrl": "",
      "userId": "16305322804838559188"
     },
     "user_tz": -180
    },
    "id": "TBAUDQ-DqfvT"
   },
   "outputs": [],
   "source": [
    "pd.set_option('display.max_columns', 500)"
   ]
  },
  {
   "cell_type": "markdown",
   "metadata": {
    "id": "13BSW7eag5P8"
   },
   "source": [
    "Подгружаю датасет и вывожу года присутствующие в датасете"
   ]
  },
  {
   "cell_type": "code",
   "execution_count": 6,
   "metadata": {
    "colab": {
     "base_uri": "https://localhost:8080/"
    },
    "executionInfo": {
     "elapsed": 1105,
     "status": "ok",
     "timestamp": 1618183715562,
     "user": {
      "displayName": "да да",
      "photoUrl": "",
      "userId": "16305322804838559188"
     },
     "user_tz": -180
    },
    "id": "lA87lhGLqfvU",
    "outputId": "3bfbc0a1-d87e-4b63-c879-5b8c332619ff"
   },
   "outputs": [
    {
     "data": {
      "text/plain": [
       "array([2017])"
      ]
     },
     "execution_count": 6,
     "metadata": {
      "tags": []
     },
     "output_type": "execute_result"
    }
   ],
   "source": [
    "df = pd.read_csv('/content/drive/MyDrive/data.csv', delimiter = \";\")\n",
    "\n",
    "df.order_date = pd.to_datetime(df.order_date)\n",
    "np.unique([i.year for i in df.order_date])"
   ]
  },
  {
   "cell_type": "markdown",
   "metadata": {
    "id": "3b-SQUmA7QhH"
   },
   "source": [
    "Сортирую датасет по дате"
   ]
  },
  {
   "cell_type": "code",
   "execution_count": 7,
   "metadata": {
    "executionInfo": {
     "elapsed": 482,
     "status": "ok",
     "timestamp": 1618183716566,
     "user": {
      "displayName": "да да",
      "photoUrl": "",
      "userId": "16305322804838559188"
     },
     "user_tz": -180
    },
    "id": "HNgkrL_ZqfvV"
   },
   "outputs": [],
   "source": [
    "df = df.sort_values('order_date')"
   ]
  },
  {
   "cell_type": "code",
   "execution_count": 8,
   "metadata": {
    "colab": {
     "base_uri": "https://localhost:8080/"
    },
    "executionInfo": {
     "elapsed": 694,
     "status": "ok",
     "timestamp": 1618183716995,
     "user": {
      "displayName": "да да",
      "photoUrl": "",
      "userId": "16305322804838559188"
     },
     "user_tz": -180
    },
    "id": "IRUNoG4GqfvW",
    "outputId": "d27afe44-e301-4592-baa8-3c1a362e220b"
   },
   "outputs": [
    {
     "data": {
      "text/plain": [
       "array([6, 7, 8, 9])"
      ]
     },
     "execution_count": 8,
     "metadata": {
      "tags": []
     },
     "output_type": "execute_result"
    }
   ],
   "source": [
    "np.unique([i.month for i in df.order_date])"
   ]
  },
  {
   "cell_type": "code",
   "execution_count": 9,
   "metadata": {
    "executionInfo": {
     "elapsed": 837,
     "status": "ok",
     "timestamp": 1618183717353,
     "user": {
      "displayName": "да да",
      "photoUrl": "",
      "userId": "16305322804838559188"
     },
     "user_tz": -180
    },
    "id": "wn3i7ltwqfvW"
   },
   "outputs": [],
   "source": [
    "df = df.drop_duplicates()"
   ]
  },
  {
   "cell_type": "code",
   "execution_count": 10,
   "metadata": {
    "colab": {
     "base_uri": "https://localhost:8080/"
    },
    "executionInfo": {
     "elapsed": 672,
     "status": "ok",
     "timestamp": 1618183717354,
     "user": {
      "displayName": "да да",
      "photoUrl": "",
      "userId": "16305322804838559188"
     },
     "user_tz": -180
    },
    "id": "Ude09UP5qfvX",
    "outputId": "6a35dc57-725c-489d-84a7-077f59c3f392"
   },
   "outputs": [
    {
     "data": {
      "text/plain": [
       "42857"
      ]
     },
     "execution_count": 10,
     "metadata": {
      "tags": []
     },
     "output_type": "execute_result"
    }
   ],
   "source": [
    "len(np.unique(df.order_id))"
   ]
  },
  {
   "cell_type": "code",
   "execution_count": 11,
   "metadata": {
    "colab": {
     "base_uri": "https://localhost:8080/"
    },
    "executionInfo": {
     "elapsed": 449,
     "status": "ok",
     "timestamp": 1618183717355,
     "user": {
      "displayName": "да да",
      "photoUrl": "",
      "userId": "16305322804838559188"
     },
     "user_tz": -180
    },
    "id": "nKlAQT1IqfvX",
    "outputId": "75fea39a-d6fd-4b02-afc4-df58b2d0520c"
   },
   "outputs": [
    {
     "data": {
      "text/plain": [
       "array([840280])"
      ]
     },
     "execution_count": 11,
     "metadata": {
      "tags": []
     },
     "output_type": "execute_result"
    }
   ],
   "source": [
    "unique = np.unique(df.order_id, return_counts=True)\n",
    "unique[0][np.argwhere(unique[1] > 1)][-1]"
   ]
  },
  {
   "cell_type": "code",
   "execution_count": 12,
   "metadata": {
    "colab": {
     "base_uri": "https://localhost:8080/",
     "height": 130
    },
    "executionInfo": {
     "elapsed": 482,
     "status": "ok",
     "timestamp": 1618183717598,
     "user": {
      "displayName": "да да",
      "photoUrl": "",
      "userId": "16305322804838559188"
     },
     "user_tz": -180
    },
    "id": "NcQvOvG2qfvY",
    "outputId": "37fa4e74-365f-4297-9041-d11249af6f82"
   },
   "outputs": [
    {
     "data": {
      "text/html": [
       "<div>\n",
       "<style scoped>\n",
       "    .dataframe tbody tr th:only-of-type {\n",
       "        vertical-align: middle;\n",
       "    }\n",
       "\n",
       "    .dataframe tbody tr th {\n",
       "        vertical-align: top;\n",
       "    }\n",
       "\n",
       "    .dataframe thead th {\n",
       "        text-align: right;\n",
       "    }\n",
       "</style>\n",
       "<table border=\"1\" class=\"dataframe\">\n",
       "  <thead>\n",
       "    <tr style=\"text-align: right;\">\n",
       "      <th></th>\n",
       "      <th>closed_cred_sum</th>\n",
       "      <th>closed_creds</th>\n",
       "      <th>active_cred_sum_overdue</th>\n",
       "      <th>active_cred_sum</th>\n",
       "      <th>active_cred_day_overdue</th>\n",
       "      <th>active_cred_max_overdue</th>\n",
       "      <th>age</th>\n",
       "      <th>gender</th>\n",
       "      <th>region</th>\n",
       "      <th>first_loan</th>\n",
       "      <th>loan_cost_all</th>\n",
       "      <th>first_days_quant</th>\n",
       "      <th>month_income</th>\n",
       "      <th>order_date</th>\n",
       "      <th>cost_all</th>\n",
       "      <th>order_id</th>\n",
       "      <th>client_id</th>\n",
       "      <th>expert</th>\n",
       "    </tr>\n",
       "  </thead>\n",
       "  <tbody>\n",
       "    <tr>\n",
       "      <th>2728</th>\n",
       "      <td>99419.82</td>\n",
       "      <td>9</td>\n",
       "      <td>0.0</td>\n",
       "      <td>235010.7</td>\n",
       "      <td>0</td>\n",
       "      <td>0.0</td>\n",
       "      <td>27</td>\n",
       "      <td>0</td>\n",
       "      <td>42</td>\n",
       "      <td>10000.0</td>\n",
       "      <td>10000</td>\n",
       "      <td>14</td>\n",
       "      <td>0.0</td>\n",
       "      <td>2017-09-25</td>\n",
       "      <td>0.0</td>\n",
       "      <td>840280</td>\n",
       "      <td>393177</td>\n",
       "      <td>1</td>\n",
       "    </tr>\n",
       "    <tr>\n",
       "      <th>2729</th>\n",
       "      <td>99419.82</td>\n",
       "      <td>9</td>\n",
       "      <td>0.0</td>\n",
       "      <td>257509.8</td>\n",
       "      <td>0</td>\n",
       "      <td>0.0</td>\n",
       "      <td>27</td>\n",
       "      <td>0</td>\n",
       "      <td>42</td>\n",
       "      <td>10000.0</td>\n",
       "      <td>10000</td>\n",
       "      <td>14</td>\n",
       "      <td>0.0</td>\n",
       "      <td>2017-09-25</td>\n",
       "      <td>0.0</td>\n",
       "      <td>840280</td>\n",
       "      <td>393177</td>\n",
       "      <td>1</td>\n",
       "    </tr>\n",
       "  </tbody>\n",
       "</table>\n",
       "</div>"
      ],
      "text/plain": [
       "      closed_cred_sum  closed_creds  active_cred_sum_overdue  active_cred_sum  \\\n",
       "2728         99419.82             9                      0.0         235010.7   \n",
       "2729         99419.82             9                      0.0         257509.8   \n",
       "\n",
       "      active_cred_day_overdue  active_cred_max_overdue  age  gender  region  \\\n",
       "2728                        0                      0.0   27       0      42   \n",
       "2729                        0                      0.0   27       0      42   \n",
       "\n",
       "      first_loan  loan_cost_all  first_days_quant  month_income order_date  \\\n",
       "2728     10000.0          10000                14           0.0 2017-09-25   \n",
       "2729     10000.0          10000                14           0.0 2017-09-25   \n",
       "\n",
       "      cost_all  order_id  client_id  expert  \n",
       "2728       0.0    840280     393177       1  \n",
       "2729       0.0    840280     393177       1  "
      ]
     },
     "execution_count": 12,
     "metadata": {
      "tags": []
     },
     "output_type": "execute_result"
    }
   ],
   "source": [
    "df[df.order_id == 840280]"
   ]
  },
  {
   "cell_type": "markdown",
   "metadata": {
    "id": "3wkGKKRU8pzU"
   },
   "source": [
    "Убираем строчки одинаковые по 'order_id', так как остались записи с одинаковыми 'order_id', но строчки несильно различаются (как видно из верхнего примера)"
   ]
  },
  {
   "cell_type": "code",
   "execution_count": 13,
   "metadata": {
    "executionInfo": {
     "elapsed": 593,
     "status": "ok",
     "timestamp": 1618183725064,
     "user": {
      "displayName": "да да",
      "photoUrl": "",
      "userId": "16305322804838559188"
     },
     "user_tz": -180
    },
    "id": "IXEI_19CqfvY"
   },
   "outputs": [],
   "source": [
    "df.drop_duplicates(subset = 'order_id', keep = 'first', inplace = True)"
   ]
  },
  {
   "cell_type": "markdown",
   "metadata": {
    "id": "WYww1O49qfvY"
   },
   "source": [
    "Проверка на пустые значения"
   ]
  },
  {
   "cell_type": "code",
   "execution_count": 14,
   "metadata": {
    "colab": {
     "base_uri": "https://localhost:8080/"
    },
    "executionInfo": {
     "elapsed": 616,
     "status": "ok",
     "timestamp": 1618183725402,
     "user": {
      "displayName": "да да",
      "photoUrl": "",
      "userId": "16305322804838559188"
     },
     "user_tz": -180
    },
    "id": "Etiz8SMfqfvZ",
    "outputId": "fc8923b1-c770-443f-e84b-6e65c8776a59"
   },
   "outputs": [
    {
     "data": {
      "text/plain": [
       "first_loan    0.000397\n",
       "dtype: float64"
      ]
     },
     "execution_count": 14,
     "metadata": {
      "tags": []
     },
     "output_type": "execute_result"
    }
   ],
   "source": [
    "df.isna().mean()[df.isna().mean() > 0]"
   ]
  },
  {
   "cell_type": "markdown",
   "metadata": {
    "id": "PUArIB1RqfvZ"
   },
   "source": [
    "Пустые значения 'first_loan' заменяем значениями из столбца 'loan_cost_all'"
   ]
  },
  {
   "cell_type": "code",
   "execution_count": 15,
   "metadata": {
    "executionInfo": {
     "elapsed": 1247,
     "status": "ok",
     "timestamp": 1618183727317,
     "user": {
      "displayName": "да да",
      "photoUrl": "",
      "userId": "16305322804838559188"
     },
     "user_tz": -180
    },
    "id": "y1BfFrMIqfvb"
   },
   "outputs": [],
   "source": [
    "df.first_loan.fillna(df.loan_cost_all, inplace = True)"
   ]
  },
  {
   "cell_type": "code",
   "execution_count": 16,
   "metadata": {
    "colab": {
     "base_uri": "https://localhost:8080/"
    },
    "executionInfo": {
     "elapsed": 1010,
     "status": "ok",
     "timestamp": 1618183727318,
     "user": {
      "displayName": "да да",
      "photoUrl": "",
      "userId": "16305322804838559188"
     },
     "user_tz": -180
    },
    "id": "-zp22vVnqfvc",
    "outputId": "89522c85-6f5e-4b1b-d116-bdb31cd50bfa"
   },
   "outputs": [
    {
     "data": {
      "text/plain": [
       "0    8381\n",
       "Name: expert, dtype: int64"
      ]
     },
     "execution_count": 16,
     "metadata": {
      "tags": []
     },
     "output_type": "execute_result"
    }
   ],
   "source": [
    "df[df.cost_all>0].expert.value_counts()"
   ]
  },
  {
   "cell_type": "markdown",
   "metadata": {
    "id": "D7y-Svv-9AQj"
   },
   "source": [
    "Добавляю новый признак, который отвечает за то, на какой по счёту день подана заявка, начиная от самой первой заявки в исходном датасете."
   ]
  },
  {
   "cell_type": "code",
   "execution_count": 17,
   "metadata": {
    "executionInfo": {
     "elapsed": 2235,
     "status": "ok",
     "timestamp": 1618183729033,
     "user": {
      "displayName": "да да",
      "photoUrl": "",
      "userId": "16305322804838559188"
     },
     "user_tz": -180
    },
    "id": "vfaPc41jqfvc"
   },
   "outputs": [],
   "source": [
    "min_date = min(df.order_date)\n",
    "df['days_since_bg'] = df.apply(lambda x: (x.order_date - min_date).days , axis = 1)"
   ]
  },
  {
   "cell_type": "markdown",
   "metadata": {
    "id": "ZW0MKlLc-ADI"
   },
   "source": [
    "Нижний график отображает пропорцию двух классов в датасете"
   ]
  },
  {
   "cell_type": "code",
   "execution_count": 18,
   "metadata": {
    "colab": {
     "base_uri": "https://localhost:8080/",
     "height": 279
    },
    "executionInfo": {
     "elapsed": 2108,
     "status": "ok",
     "timestamp": 1618183729039,
     "user": {
      "displayName": "да да",
      "photoUrl": "",
      "userId": "16305322804838559188"
     },
     "user_tz": -180
    },
    "id": "88shT2fCqfvd",
    "outputId": "ffe1a238-8362-4976-fbda-183f010a60cc"
   },
   "outputs": [
    {
     "data": {
      "image/png": "[encoded data removed]",
      "text/plain": [
       "<Figure size 432x288 with 1 Axes>"
      ]
     },
     "metadata": {
      "needs_background": "light",
      "tags": []
     },
     "output_type": "display_data"
    }
   ],
   "source": [
    "ax = sns.countplot(y=\"expert\", data=df, alpha=0.8)\n",
    "total = df.shape[0]\n",
    "\n",
    "for p in ax.patches:\n",
    "    percentage = '{:.1f}%'.format(100 * p.get_width() / total)\n",
    "    x = p.get_x() + p.get_width()\n",
    "    y = p.get_y() + p.get_height() / 2\n",
    "    ax.annotate(percentage, (x, y))\n",
    "\n",
    "plt.show()"
   ]
  },
  {
   "cell_type": "code",
   "execution_count": 19,
   "metadata": {
    "colab": {
     "base_uri": "https://localhost:8080/"
    },
    "executionInfo": {
     "elapsed": 2014,
     "status": "ok",
     "timestamp": 1618183729045,
     "user": {
      "displayName": "да да",
      "photoUrl": "",
      "userId": "16305322804838559188"
     },
     "user_tz": -180
    },
    "id": "OwLU08oCqfve",
    "outputId": "807e9cee-a846-47ff-c34f-33a83d6a41bb"
   },
   "outputs": [
    {
     "data": {
      "text/plain": [
       "closed_cred_sum                   float64\n",
       "closed_creds                        int64\n",
       "active_cred_sum_overdue           float64\n",
       "active_cred_sum                   float64\n",
       "active_cred_day_overdue             int64\n",
       "active_cred_max_overdue           float64\n",
       "age                                 int64\n",
       "gender                              int64\n",
       "region                              int64\n",
       "first_loan                        float64\n",
       "loan_cost_all                       int64\n",
       "first_days_quant                    int64\n",
       "month_income                      float64\n",
       "order_date                 datetime64[ns]\n",
       "cost_all                          float64\n",
       "order_id                            int64\n",
       "client_id                           int64\n",
       "expert                              int64\n",
       "days_since_bg                       int64\n",
       "dtype: object"
      ]
     },
     "execution_count": 19,
     "metadata": {
      "tags": []
     },
     "output_type": "execute_result"
    }
   ],
   "source": [
    "df.dtypes"
   ]
  },
  {
   "cell_type": "markdown",
   "metadata": {
    "id": "vcTi_4z0-VxF"
   },
   "source": [
    "Новый признак - разница между суммой заявителя и одобренной суммой"
   ]
  },
  {
   "cell_type": "code",
   "execution_count": 20,
   "metadata": {
    "executionInfo": {
     "elapsed": 2359,
     "status": "ok",
     "timestamp": 1618183729469,
     "user": {
      "displayName": "да да",
      "photoUrl": "",
      "userId": "16305322804838559188"
     },
     "user_tz": -180
    },
    "id": "nC36W8vnqfve"
   },
   "outputs": [],
   "source": [
    "df['dif_fl_lca'] = (df.first_loan - df.loan_cost_all)/ 1000 >0"
   ]
  },
  {
   "cell_type": "markdown",
   "metadata": {
    "id": "Bvxk8oE-aRtr"
   },
   "source": [
    "Новый признак, значение true ,если cost_all больше 0 и false, если cost_all равен 0"
   ]
  },
  {
   "cell_type": "code",
   "execution_count": 21,
   "metadata": {
    "executionInfo": {
     "elapsed": 2280,
     "status": "ok",
     "timestamp": 1618183729470,
     "user": {
      "displayName": "да да",
      "photoUrl": "",
      "userId": "16305322804838559188"
     },
     "user_tz": -180
    },
    "id": "pVTYZHoDqfve"
   },
   "outputs": [],
   "source": [
    "df['pos_cost_all'] = df.cost_all > 0"
   ]
  },
  {
   "cell_type": "markdown",
   "metadata": {
    "id": "v9uZMd49a0of"
   },
   "source": [
    "Видно из 2 -го и 3 -го графиков, что признаки cost_all и loan_cost_all являются ликовыми(т.е. произошла утечка данных). Это также можно понять даже по их обозначению, тоесть loan_cost_all - одобренная клиенту сумма кредита, cost_all - сумма всех выплат по одобренному кредиту."
   ]
  },
  {
   "cell_type": "code",
   "execution_count": 22,
   "metadata": {
    "colab": {
     "base_uri": "https://localhost:8080/",
     "height": 1000
    },
    "executionInfo": {
     "elapsed": 7723,
     "status": "ok",
     "timestamp": 1618183735744,
     "user": {
      "displayName": "да да",
      "photoUrl": "",
      "userId": "16305322804838559188"
     },
     "user_tz": -180
    },
    "id": "-059VrNMqfvf",
    "outputId": "03f5eb7a-f3a1-480a-f4ec-42631b72b0ce",
    "scrolled": true
   },
   "outputs": [
    {
     "data": {
      "image/png": "[encoded data removed]",
      "text/plain": [
       "<Figure size 1296x1440 with 5 Axes>"
      ]
     },
     "metadata": {
      "needs_background": "light",
      "tags": []
     },
     "output_type": "display_data"
    }
   ],
   "source": [
    "cols_obj = list(['age', 'dif_fl_lca', 'pos_cost_all', 'region', 'days_since_bg'])\n",
    "\n",
    "#строим графики признаков типа объект от значения таргета, отнормируем на размер датасета\n",
    "plt.figure(figsize=[18, 20])\n",
    "\n",
    "i = 1\n",
    "y, hue = \"proportion\", \"expert\"\n",
    "\n",
    "for f in cols_obj:\n",
    "    plt.subplot(5, 1, i)\n",
    "    df[[f, 'expert']]\\\n",
    "        .value_counts(normalize=True)\\\n",
    "        .rename(y)\\\n",
    "        .reset_index()\\\n",
    "        .pipe((sns.barplot, \"data\"), x=f, y='proportion', hue='expert', alpha=0.8)\n",
    "    plt.title(\"Proportion of {}  by target\".format(f))\n",
    "    i += 1\n",
    "plt.tight_layout()\n",
    "plt.show()"
   ]
  },
  {
   "cell_type": "markdown",
   "metadata": {
    "id": "zQmcnxOJdCHb"
   },
   "source": [
    "Также исходя из верхних графиков было принято решение добавить две категориальные фичи: 'categorical_days', 'categorical_age'. Первая всего имеет три категории, так как видно, что в течение трёх месяцев примерно есть три паттерна. Аналогично и вторая имеет три категории, связанных уже с возрастом. "
   ]
  },
  {
   "cell_type": "code",
   "execution_count": 23,
   "metadata": {
    "colab": {
     "base_uri": "https://localhost:8080/",
     "height": 208
    },
    "executionInfo": {
     "elapsed": 8733,
     "status": "ok",
     "timestamp": 1618183737189,
     "user": {
      "displayName": "да да",
      "photoUrl": "",
      "userId": "16305322804838559188"
     },
     "user_tz": -180
    },
    "id": "tCXsV1ZFqfvf",
    "outputId": "3471a489-06dd-483f-ab61-c43bf101306d"
   },
   "outputs": [
    {
     "data": {
      "image/png": "[encoded data removed]",
      "text/plain": [
       "<Figure size 1440x1440 with 1 Axes>"
      ]
     },
     "metadata": {
      "needs_background": "light",
      "tags": []
     },
     "output_type": "display_data"
    }
   ],
   "source": [
    "cols_obj = list(['region'])\n",
    "\n",
    "#строим графики признаков типа объект от значения таргета, отнормируем на размер датасета\n",
    "plt.figure(figsize=[20, 20])\n",
    "\n",
    "i = 1\n",
    "y, hue = \"proportion\", \"expert\"\n",
    "\n",
    "for f in cols_obj:\n",
    "    plt.subplot(5, 1, i)\n",
    "    df[[f]]\\\n",
    "        .value_counts(normalize=True)\\\n",
    "        .rename(y)\\\n",
    "        .reset_index()\\\n",
    "        .pipe((sns.barplot, \"data\"), x=f, y='proportion', alpha=0.8)\n",
    "    plt.title(\"Proportion of {}  by target\".format(f))\n",
    "    i += 1\n",
    "plt.tight_layout()\n",
    "plt.show()"
   ]
  },
  {
   "cell_type": "code",
   "execution_count": 24,
   "metadata": {
    "colab": {
     "base_uri": "https://localhost:8080/",
     "height": 279
    },
    "executionInfo": {
     "elapsed": 8013,
     "status": "ok",
     "timestamp": 1618183737193,
     "user": {
      "displayName": "да да",
      "photoUrl": "",
      "userId": "16305322804838559188"
     },
     "user_tz": -180
    },
    "id": "ZVOSJb14qfvg",
    "outputId": "37035c59-8b73-4932-d008-adcb4d5a4edb"
   },
   "outputs": [
    {
     "data": {
      "image/png": "[encoded data removed]",
      "text/plain": [
       "<Figure size 432x288 with 1 Axes>"
      ]
     },
     "metadata": {
      "needs_background": "light",
      "tags": []
     },
     "output_type": "display_data"
    }
   ],
   "source": [
    "sns.boxplot(x='expert', y='active_cred_day_overdue', data=df)\n",
    "plt.show()"
   ]
  },
  {
   "cell_type": "code",
   "execution_count": 25,
   "metadata": {
    "colab": {
     "base_uri": "https://localhost:8080/",
     "height": 279
    },
    "executionInfo": {
     "elapsed": 8397,
     "status": "ok",
     "timestamp": 1618183737786,
     "user": {
      "displayName": "да да",
      "photoUrl": "",
      "userId": "16305322804838559188"
     },
     "user_tz": -180
    },
    "id": "C-hetHh_qfvg",
    "outputId": "49743187-02e4-418e-8f25-730de970515d"
   },
   "outputs": [
    {
     "data": {
      "image/png": "[encoded data removed]",
      "text/plain": [
       "<Figure size 432x288 with 1 Axes>"
      ]
     },
     "metadata": {
      "needs_background": "light",
      "tags": []
     },
     "output_type": "display_data"
    }
   ],
   "source": [
    "sns.boxplot(x='expert', y='age', data=df)\n",
    "plt.show()"
   ]
  },
  {
   "cell_type": "code",
   "execution_count": 26,
   "metadata": {
    "colab": {
     "base_uri": "https://localhost:8080/",
     "height": 279
    },
    "executionInfo": {
     "elapsed": 8220,
     "status": "ok",
     "timestamp": 1618183737788,
     "user": {
      "displayName": "да да",
      "photoUrl": "",
      "userId": "16305322804838559188"
     },
     "user_tz": -180
    },
    "id": "5DS0919Xqfvg",
    "outputId": "c9f05f37-3000-4480-e913-eff8e3547ff9"
   },
   "outputs": [
    {
     "data": {
      "image/png": "[encoded data removed]",
      "text/plain": [
       "<Figure size 432x288 with 1 Axes>"
      ]
     },
     "metadata": {
      "needs_background": "light",
      "tags": []
     },
     "output_type": "display_data"
    }
   ],
   "source": [
    "sns.boxplot(x='expert', y='region', data=df)\n",
    "plt.show()"
   ]
  },
  {
   "cell_type": "markdown",
   "metadata": {
    "id": "S1-HSNaoqfvh"
   },
   "source": [
    "Дабы точно убедиться, что признаки 'loan_cost_all' и 'cost_all' являются ликовыми, внизу представлен топ важных фичей для логистической регрессии."
   ]
  },
  {
   "cell_type": "code",
   "execution_count": 27,
   "metadata": {
    "colab": {
     "base_uri": "https://localhost:8080/",
     "height": 342
    },
    "executionInfo": {
     "elapsed": 9839,
     "status": "ok",
     "timestamp": 1618183739760,
     "user": {
      "displayName": "да да",
      "photoUrl": "",
      "userId": "16305322804838559188"
     },
     "user_tz": -180
    },
    "id": "yVAh-M1hqfvi",
    "outputId": "ab8617f1-45f5-4b3e-cc62-46243d1e01ee"
   },
   "outputs": [
    {
     "data": {
      "text/html": [
       "\n",
       "    <style>\n",
       "    table.eli5-weights tr:hover {\n",
       "        filter: brightness(85%);\n",
       "    }\n",
       "</style>\n",
       "\n",
       "\n",
       "\n",
       "    \n",
       "\n",
       "    \n",
       "\n",
       "    \n",
       "\n",
       "    \n",
       "\n",
       "    \n",
       "\n",
       "    \n",
       "\n",
       "\n",
       "    \n",
       "\n",
       "    \n",
       "\n",
       "    \n",
       "\n",
       "    \n",
       "\n",
       "    \n",
       "\n",
       "    \n",
       "\n",
       "\n",
       "    \n",
       "\n",
       "    \n",
       "\n",
       "    \n",
       "\n",
       "    \n",
       "\n",
       "    \n",
       "        <table class=\"eli5-weights eli5-feature-importances\" style=\"border-collapse: collapse; border: none; margin-top: 0em; table-layout: auto;\">\n",
       "    <thead>\n",
       "    <tr style=\"border: none;\">\n",
       "        <th style=\"padding: 0 1em 0 0.5em; text-align: right; border: none;\">Weight</th>\n",
       "        <th style=\"padding: 0 0.5em 0 0.5em; text-align: left; border: none;\">Feature</th>\n",
       "    </tr>\n",
       "    </thead>\n",
       "    <tbody>\n",
       "    \n",
       "        <tr style=\"background-color: hsl(120, 100.00%, 80.00%); border: none;\">\n",
       "            <td style=\"padding: 0 1em 0 0.5em; text-align: right; border: none;\">\n",
       "                0.5037\n",
       "                \n",
       "                    &plusmn; 0.0091\n",
       "                \n",
       "            </td>\n",
       "            <td style=\"padding: 0 0.5em 0 0.5em; text-align: left; border: none;\">\n",
       "                loan_cost_all\n",
       "            </td>\n",
       "        </tr>\n",
       "    \n",
       "        <tr style=\"background-color: hsl(120, 100.00%, 84.83%); border: none;\">\n",
       "            <td style=\"padding: 0 1em 0 0.5em; text-align: right; border: none;\">\n",
       "                0.3393\n",
       "                \n",
       "                    &plusmn; 0.0076\n",
       "                \n",
       "            </td>\n",
       "            <td style=\"padding: 0 0.5em 0 0.5em; text-align: left; border: none;\">\n",
       "                cost_all\n",
       "            </td>\n",
       "        </tr>\n",
       "    \n",
       "        <tr style=\"background-color: hsl(120, 100.00%, 84.91%); border: none;\">\n",
       "            <td style=\"padding: 0 1em 0 0.5em; text-align: right; border: none;\">\n",
       "                0.3369\n",
       "                \n",
       "                    &plusmn; 0.0068\n",
       "                \n",
       "            </td>\n",
       "            <td style=\"padding: 0 0.5em 0 0.5em; text-align: left; border: none;\">\n",
       "                first_loan\n",
       "            </td>\n",
       "        </tr>\n",
       "    \n",
       "        <tr style=\"background-color: hsl(120, 100.00%, 99.77%); border: none;\">\n",
       "            <td style=\"padding: 0 1em 0 0.5em; text-align: right; border: none;\">\n",
       "                0.0009\n",
       "                \n",
       "                    &plusmn; 0.0011\n",
       "                \n",
       "            </td>\n",
       "            <td style=\"padding: 0 0.5em 0 0.5em; text-align: left; border: none;\">\n",
       "                active_cred_day_overdue\n",
       "            </td>\n",
       "        </tr>\n",
       "    \n",
       "        <tr style=\"background-color: hsl(120, 100.00%, 99.80%); border: none;\">\n",
       "            <td style=\"padding: 0 1em 0 0.5em; text-align: right; border: none;\">\n",
       "                0.0007\n",
       "                \n",
       "                    &plusmn; 0.0006\n",
       "                \n",
       "            </td>\n",
       "            <td style=\"padding: 0 0.5em 0 0.5em; text-align: left; border: none;\">\n",
       "                active_cred_max_overdue\n",
       "            </td>\n",
       "        </tr>\n",
       "    \n",
       "        <tr style=\"background-color: hsl(120, 100.00%, 99.89%); border: none;\">\n",
       "            <td style=\"padding: 0 1em 0 0.5em; text-align: right; border: none;\">\n",
       "                0.0003\n",
       "                \n",
       "                    &plusmn; 0.0000\n",
       "                \n",
       "            </td>\n",
       "            <td style=\"padding: 0 0.5em 0 0.5em; text-align: left; border: none;\">\n",
       "                active_cred_sum_overdue\n",
       "            </td>\n",
       "        </tr>\n",
       "    \n",
       "        <tr style=\"background-color: hsl(0, 100.00%, 100.00%); border: none;\">\n",
       "            <td style=\"padding: 0 1em 0 0.5em; text-align: right; border: none;\">\n",
       "                0\n",
       "                \n",
       "                    &plusmn; 0.0000\n",
       "                \n",
       "            </td>\n",
       "            <td style=\"padding: 0 0.5em 0 0.5em; text-align: left; border: none;\">\n",
       "                pos_cost_all\n",
       "            </td>\n",
       "        </tr>\n",
       "    \n",
       "        <tr style=\"background-color: hsl(0, 100.00%, 100.00%); border: none;\">\n",
       "            <td style=\"padding: 0 1em 0 0.5em; text-align: right; border: none;\">\n",
       "                0\n",
       "                \n",
       "                    &plusmn; 0.0000\n",
       "                \n",
       "            </td>\n",
       "            <td style=\"padding: 0 0.5em 0 0.5em; text-align: left; border: none;\">\n",
       "                gender\n",
       "            </td>\n",
       "        </tr>\n",
       "    \n",
       "        <tr style=\"background-color: hsl(0, 100.00%, 100.00%); border: none;\">\n",
       "            <td style=\"padding: 0 1em 0 0.5em; text-align: right; border: none;\">\n",
       "                0\n",
       "                \n",
       "                    &plusmn; 0.0000\n",
       "                \n",
       "            </td>\n",
       "            <td style=\"padding: 0 0.5em 0 0.5em; text-align: left; border: none;\">\n",
       "                closed_creds\n",
       "            </td>\n",
       "        </tr>\n",
       "    \n",
       "        <tr style=\"background-color: hsl(0, 100.00%, 100.00%); border: none;\">\n",
       "            <td style=\"padding: 0 1em 0 0.5em; text-align: right; border: none;\">\n",
       "                0\n",
       "                \n",
       "                    &plusmn; 0.0000\n",
       "                \n",
       "            </td>\n",
       "            <td style=\"padding: 0 0.5em 0 0.5em; text-align: left; border: none;\">\n",
       "                age\n",
       "            </td>\n",
       "        </tr>\n",
       "    \n",
       "        <tr style=\"background-color: hsl(0, 100.00%, 100.00%); border: none;\">\n",
       "            <td style=\"padding: 0 1em 0 0.5em; text-align: right; border: none;\">\n",
       "                0\n",
       "                \n",
       "                    &plusmn; 0.0000\n",
       "                \n",
       "            </td>\n",
       "            <td style=\"padding: 0 0.5em 0 0.5em; text-align: left; border: none;\">\n",
       "                region\n",
       "            </td>\n",
       "        </tr>\n",
       "    \n",
       "        <tr style=\"background-color: hsl(0, 100.00%, 100.00%); border: none;\">\n",
       "            <td style=\"padding: 0 1em 0 0.5em; text-align: right; border: none;\">\n",
       "                0\n",
       "                \n",
       "                    &plusmn; 0.0000\n",
       "                \n",
       "            </td>\n",
       "            <td style=\"padding: 0 0.5em 0 0.5em; text-align: left; border: none;\">\n",
       "                dif_fl_lca\n",
       "            </td>\n",
       "        </tr>\n",
       "    \n",
       "        <tr style=\"background-color: hsl(0, 100.00%, 100.00%); border: none;\">\n",
       "            <td style=\"padding: 0 1em 0 0.5em; text-align: right; border: none;\">\n",
       "                0\n",
       "                \n",
       "                    &plusmn; 0.0000\n",
       "                \n",
       "            </td>\n",
       "            <td style=\"padding: 0 0.5em 0 0.5em; text-align: left; border: none;\">\n",
       "                first_days_quant\n",
       "            </td>\n",
       "        </tr>\n",
       "    \n",
       "        <tr style=\"background-color: hsl(0, 100.00%, 100.00%); border: none;\">\n",
       "            <td style=\"padding: 0 1em 0 0.5em; text-align: right; border: none;\">\n",
       "                0\n",
       "                \n",
       "                    &plusmn; 0.0000\n",
       "                \n",
       "            </td>\n",
       "            <td style=\"padding: 0 0.5em 0 0.5em; text-align: left; border: none;\">\n",
       "                order_id\n",
       "            </td>\n",
       "        </tr>\n",
       "    \n",
       "        <tr style=\"background-color: hsl(0, 100.00%, 100.00%); border: none;\">\n",
       "            <td style=\"padding: 0 1em 0 0.5em; text-align: right; border: none;\">\n",
       "                0\n",
       "                \n",
       "                    &plusmn; 0.0000\n",
       "                \n",
       "            </td>\n",
       "            <td style=\"padding: 0 0.5em 0 0.5em; text-align: left; border: none;\">\n",
       "                days_since_bg\n",
       "            </td>\n",
       "        </tr>\n",
       "    \n",
       "        <tr style=\"background-color: hsl(0, 100.00%, 99.94%); border: none;\">\n",
       "            <td style=\"padding: 0 1em 0 0.5em; text-align: right; border: none;\">\n",
       "                -0.0001\n",
       "                \n",
       "                    &plusmn; 0.0003\n",
       "                \n",
       "            </td>\n",
       "            <td style=\"padding: 0 0.5em 0 0.5em; text-align: left; border: none;\">\n",
       "                month_income\n",
       "            </td>\n",
       "        </tr>\n",
       "    \n",
       "        <tr style=\"background-color: hsl(0, 100.00%, 99.80%); border: none;\">\n",
       "            <td style=\"padding: 0 1em 0 0.5em; text-align: right; border: none;\">\n",
       "                -0.0007\n",
       "                \n",
       "                    &plusmn; 0.0009\n",
       "                \n",
       "            </td>\n",
       "            <td style=\"padding: 0 0.5em 0 0.5em; text-align: left; border: none;\">\n",
       "                closed_cred_sum\n",
       "            </td>\n",
       "        </tr>\n",
       "    \n",
       "        <tr style=\"background-color: hsl(0, 100.00%, 99.78%); border: none;\">\n",
       "            <td style=\"padding: 0 1em 0 0.5em; text-align: right; border: none;\">\n",
       "                -0.0008\n",
       "                \n",
       "                    &plusmn; 0.0009\n",
       "                \n",
       "            </td>\n",
       "            <td style=\"padding: 0 0.5em 0 0.5em; text-align: left; border: none;\">\n",
       "                active_cred_sum\n",
       "            </td>\n",
       "        </tr>\n",
       "    \n",
       "    \n",
       "    </tbody>\n",
       "</table>\n",
       "    \n",
       "\n",
       "    \n",
       "\n",
       "\n",
       "    \n",
       "\n",
       "    \n",
       "\n",
       "    \n",
       "\n",
       "    \n",
       "\n",
       "    \n",
       "\n",
       "    \n",
       "\n",
       "\n",
       "\n"
      ],
      "text/plain": [
       "<IPython.core.display.HTML object>"
      ]
     },
     "execution_count": 27,
     "metadata": {
      "tags": []
     },
     "output_type": "execute_result"
    }
   ],
   "source": [
    "validation_ratio = 0.15\n",
    "test_ratio = 0.10\n",
    "X_transformed= df.drop(columns = ['client_id', 'expert', 'order_date'], axis = 1)\n",
    "y = df.expert.replace([0,1], [1, 0])\n",
    "\n",
    "X_train, X_test, y_train, y_test = train_test_split(X_transformed, y, test_size= test_ratio + validation_ratio)\n",
    "X_val, X_test, y_val, y_test = train_test_split(X_test, y_test, test_size= test_ratio/(test_ratio + validation_ratio))\n",
    "\n",
    "lr = LogisticRegression(max_iter = 1000, class_weight = 'balanced')\n",
    "lr.fit(X_train, y_train)\n",
    "perm = PermutationImportance(lr, scoring='f1').fit(X_val, y_val)\n",
    "eli5.show_weights(perm, feature_names=X_val.columns.tolist())"
   ]
  },
  {
   "cell_type": "markdown",
   "metadata": {
    "id": "29wJpFUaiXf1"
   },
   "source": [
    "Как говорилось выше, добавляем 'categorical_days' и 'category_age'"
   ]
  },
  {
   "cell_type": "code",
   "execution_count": 28,
   "metadata": {
    "executionInfo": {
     "elapsed": 11054,
     "status": "ok",
     "timestamp": 1618183741369,
     "user": {
      "displayName": "да да",
      "photoUrl": "",
      "userId": "16305322804838559188"
     },
     "user_tz": -180
    },
    "id": "G34oxDUEqfvj"
   },
   "outputs": [],
   "source": [
    "def get_days_category(x):\n",
    "    if x < 49:\n",
    "        return 1\n",
    "    elif x < 89:\n",
    "        return 2\n",
    "    else:\n",
    "        return 3\n",
    "\n",
    "def get_age_category(x):\n",
    "    if x < 45:\n",
    "        return 1\n",
    "    elif x < 54:\n",
    "        return 2\n",
    "    else:\n",
    "        return 3\n",
    "    \n",
    "df['categorical_days'] = df.apply(lambda row: get_days_category(row['days_since_bg']), axis=1)\n",
    "df['category_age'] = df.apply(lambda row: get_age_category(row['age']), axis=1)"
   ]
  },
  {
   "cell_type": "markdown",
   "metadata": {
    "id": "6SweZnCZqfvj"
   },
   "source": [
    "Удалим ликовые столбцы и order_id"
   ]
  },
  {
   "cell_type": "code",
   "execution_count": 29,
   "metadata": {
    "executionInfo": {
     "elapsed": 10745,
     "status": "ok",
     "timestamp": 1618183741377,
     "user": {
      "displayName": "да да",
      "photoUrl": "",
      "userId": "16305322804838559188"
     },
     "user_tz": -180
    },
    "id": "ACANHPcwqfvj"
   },
   "outputs": [],
   "source": [
    "df = df.drop(columns = ['dif_fl_lca', 'pos_cost_all', 'cost_all', 'loan_cost_all', 'order_id'])\n",
    "df = df.drop_duplicates()\n",
    "df = df.reset_index()\n",
    "df = df.drop(columns = ['index'], axis = 1)"
   ]
  },
  {
   "cell_type": "markdown",
   "metadata": {
    "id": "1w6DGDt-qfvk"
   },
   "source": [
    "По данным видно, что есть абсолютно идентичные строчки, но при этом значения expert у этих строк различны\n",
    "\n"
   ]
  },
  {
   "cell_type": "code",
   "execution_count": 30,
   "metadata": {
    "colab": {
     "base_uri": "https://localhost:8080/"
    },
    "executionInfo": {
     "elapsed": 9632,
     "status": "ok",
     "timestamp": 1618183742316,
     "user": {
      "displayName": "да да",
      "photoUrl": "",
      "userId": "16305322804838559188"
     },
     "user_tz": -180
    },
    "id": "wLztQB1Uqfvk",
    "outputId": "88b5881d-372f-4c81-955a-d1ba35416b24"
   },
   "outputs": [
    {
     "name": "stdout",
     "output_type": "stream",
     "text": [
      "Int64Index([23984, 23985], dtype='int64')\n",
      "Int64Index([30446, 30447], dtype='int64')\n",
      "Int64Index([8059, 8060], dtype='int64')\n",
      "Int64Index([33158, 33159], dtype='int64')\n",
      "Int64Index([18591, 18592], dtype='int64')\n",
      "Int64Index([20796, 20797], dtype='int64')\n"
     ]
    }
   ],
   "source": [
    "grouped_columns =  ['client_id', 'days_since_bg', 'active_cred_sum', 'first_days_quant', 'first_loan', 'month_income']\n",
    "add_df = df.groupby(by = grouped_columns)\n",
    "ind_groups = add_df.groups.values()\n",
    "ind_groups = list(ind_groups)\n",
    "for i in ind_groups:\n",
    "    if len(i) > 1:\n",
    "        print(i)"
   ]
  },
  {
   "cell_type": "code",
   "execution_count": 31,
   "metadata": {
    "executionInfo": {
     "elapsed": 10731,
     "status": "ok",
     "timestamp": 1618183743579,
     "user": {
      "displayName": "да да",
      "photoUrl": "",
      "userId": "16305322804838559188"
     },
     "user_tz": -180
    },
    "id": "Pb59FfrBqfvk"
   },
   "outputs": [],
   "source": [
    "grouped_columns.append('expert')\n",
    "add_df = df.groupby(by = grouped_columns)\n",
    "ind_groups = add_df.groups.values()\n",
    "ind_groups = list(ind_groups)\n",
    "for i in ind_groups:\n",
    "    if len(i) > 1:\n",
    "        print(i)"
   ]
  },
  {
   "cell_type": "markdown",
   "metadata": {
    "id": "sMNexC-Eqfvl"
   },
   "source": [
    "В данных есть клиенты, у которых несколько заявок. Чтобы не было ликов (к примеру, смогли бы по сумме всех активных кредитов предсказать одобрена ли была прошлая заявка этого же клиента) последнюю заявку клиента отправляем в тестовую выборку, предпоследнюю заявку в валидационную, а все предыдущие в тренировочную выборку."
   ]
  },
  {
   "cell_type": "code",
   "execution_count": 32,
   "metadata": {
    "executionInfo": {
     "elapsed": 10710,
     "status": "ok",
     "timestamp": 1618183743940,
     "user": {
      "displayName": "да да",
      "photoUrl": "",
      "userId": "16305322804838559188"
     },
     "user_tz": -180
    },
    "id": "zAlKnNX3qfvl"
   },
   "outputs": [],
   "source": [
    "grouped_columns =  ['client_id']\n",
    "ind_groups = df.groupby(by = grouped_columns).groups.values()\n",
    "ind_groups = list(ind_groups)"
   ]
  },
  {
   "cell_type": "code",
   "execution_count": 33,
   "metadata": {
    "executionInfo": {
     "elapsed": 10496,
     "status": "ok",
     "timestamp": 1618183743942,
     "user": {
      "displayName": "да да",
      "photoUrl": "",
      "userId": "16305322804838559188"
     },
     "user_tz": -180
    },
    "id": "-3k8ZhOwqfvm"
   },
   "outputs": [],
   "source": [
    "train_indices, val_indices, test_indices = [], [], []\n",
    "all_indices = []\n",
    "for i in ind_groups:\n",
    "    if len(i) > 1:\n",
    "        cur_ind = list(i)\n",
    "        all_indices.extend(cur_ind)\n",
    "        if len(i) == 2:\n",
    "            train_indices.append(cur_ind[0])\n",
    "            val_indices.append(cur_ind[1])\n",
    "        else:\n",
    "            val_indices.append(cur_ind[-2])\n",
    "            test_indices.append(cur_ind[-1])\n",
    "            train_indices.extend(cur_ind[:-2])\n",
    "indices_without_repeated = list(set(range(df.shape[0])) - set(all_indices))"
   ]
  },
  {
   "cell_type": "markdown",
   "metadata": {
    "id": "hcVXERuimrJl"
   },
   "source": [
    "К категориальным признакам применяю one hot encoding, а остальные масштабирую."
   ]
  },
  {
   "cell_type": "code",
   "execution_count": 34,
   "metadata": {
    "executionInfo": {
     "elapsed": 10072,
     "status": "ok",
     "timestamp": 1618183743944,
     "user": {
      "displayName": "да да",
      "photoUrl": "",
      "userId": "16305322804838559188"
     },
     "user_tz": -180
    },
    "id": "rYyZ1Juvqfvm"
   },
   "outputs": [],
   "source": [
    "scaled_col = ['closed_cred_sum', 'closed_creds', 'active_cred_sum_overdue',\\\n",
    "              'active_cred_sum', 'active_cred_day_overdue', 'active_cred_max_overdue', \\\n",
    "              'age', 'first_loan','first_days_quant', 'month_income']\n",
    "cat_col = ['gender', 'categorical_days', 'category_age', 'region']\n",
    "\n",
    "ct = ColumnTransformer([\n",
    "     ('scaled', StandardScaler(), scaled_col),  \n",
    "     ('categorical', OneHotEncoder(), cat_col)\n",
    "])\n",
    "X = ct.fit_transform(df).toarray()\n",
    "y = np.array(df.expert.copy())"
   ]
  },
  {
   "cell_type": "code",
   "execution_count": 35,
   "metadata": {
    "executionInfo": {
     "elapsed": 9583,
     "status": "ok",
     "timestamp": 1618183743946,
     "user": {
      "displayName": "да да",
      "photoUrl": "",
      "userId": "16305322804838559188"
     },
     "user_tz": -180
    },
    "id": "XHApOmfEqfvn"
   },
   "outputs": [],
   "source": [
    "X_wt_rep = X[indices_without_repeated]\n",
    "y_wt_rep = y[indices_without_repeated]"
   ]
  },
  {
   "cell_type": "markdown",
   "metadata": {
    "id": "gFzlFC2Cnh2a"
   },
   "source": [
    "Делю данные на train, validation, test таким образом, чтобы все они были стратифицированными."
   ]
  },
  {
   "cell_type": "code",
   "execution_count": 36,
   "metadata": {
    "executionInfo": {
     "elapsed": 9218,
     "status": "ok",
     "timestamp": 1618183744294,
     "user": {
      "displayName": "да да",
      "photoUrl": "",
      "userId": "16305322804838559188"
     },
     "user_tz": -180
    },
    "id": "5lTJEk29JPu9"
   },
   "outputs": [],
   "source": [
    "validation_ratio = 0.15\n",
    "test_ratio = 0.12\n",
    "for train_index, test_index in StratifiedShuffleSplit(n_splits= 1, test_size=validation_ratio + test_ratio)\\\n",
    "                                                  .split(X_wt_rep, y_wt_rep):\n",
    "      X_train, X_test = X[train_index].copy(), X[test_index].copy()\n",
    "      y_train, y_test = y[train_index].copy(), y[test_index].copy()\n",
    "      for val_index, test_index in StratifiedShuffleSplit(n_splits= 1,\\\n",
    "                                                  test_size= test_ratio/(test_ratio + validation_ratio))\\\n",
    "                                                  .split(X_test, y_test):\n",
    "          X_val, X_test = X_test[val_index], X_test[test_index]\n",
    "          y_val, y_test = y_test[val_index], y_test[test_index]"
   ]
  },
  {
   "cell_type": "markdown",
   "metadata": {
    "id": "r--rQO0Sngwo"
   },
   "source": [
    "Добавляю в разделённые выборки клиентов, имеющих несколько заявок в исходных данных. "
   ]
  },
  {
   "cell_type": "code",
   "execution_count": 37,
   "metadata": {
    "executionInfo": {
     "elapsed": 8365,
     "status": "ok",
     "timestamp": 1618183744294,
     "user": {
      "displayName": "да да",
      "photoUrl": "",
      "userId": "16305322804838559188"
     },
     "user_tz": -180
    },
    "id": "_PF_ew69qfvn"
   },
   "outputs": [],
   "source": [
    "X_train = np.append(X_train, X[train_indices], axis = 0)\n",
    "y_train = np.append(y_train, y[train_indices])\n",
    "X_val = np.append(X_val, X[val_indices], axis = 0)\n",
    "y_val = np.append(y_val, y[val_indices])\n",
    "X_test = np.append(X_test, X[test_indices], axis = 0)\n",
    "y_test = np.append(y_test, y[test_indices])"
   ]
  },
  {
   "cell_type": "markdown",
   "metadata": {
    "id": "LLaE2k7vqfvo"
   },
   "source": [
    "После добавление новых элементов, мешаем ряды"
   ]
  },
  {
   "cell_type": "code",
   "execution_count": 38,
   "metadata": {
    "executionInfo": {
     "elapsed": 7587,
     "status": "ok",
     "timestamp": 1618183744295,
     "user": {
      "displayName": "да да",
      "photoUrl": "",
      "userId": "16305322804838559188"
     },
     "user_tz": -180
    },
    "id": "1yiGM1t8qfvo"
   },
   "outputs": [],
   "source": [
    "perm = np.random.permutation(len(y_train))\n",
    "X_train, y_train = X_train[perm], y_train[perm]\n",
    "perm = np.random.permutation(len(y_val))\n",
    "X_val, y_val = X_val[perm], y_val[perm]\n",
    "perm = np.random.permutation(len(y_test))\n",
    "X_test, y_test = X_test[perm], y_test[perm]"
   ]
  },
  {
   "cell_type": "code",
   "execution_count": 39,
   "metadata": {
    "colab": {
     "base_uri": "https://localhost:8080/"
    },
    "executionInfo": {
     "elapsed": 7351,
     "status": "ok",
     "timestamp": 1618183744295,
     "user": {
      "displayName": "да да",
      "photoUrl": "",
      "userId": "16305322804838559188"
     },
     "user_tz": -180
    },
    "id": "N2C5jo1_qfvo",
    "outputId": "9214e50a-e54d-4570-a428-f4d1602e944d"
   },
   "outputs": [
    {
     "data": {
      "text/plain": [
       "(29985, 117)"
      ]
     },
     "execution_count": 39,
     "metadata": {
      "tags": []
     },
     "output_type": "execute_result"
    }
   ],
   "source": [
    "X_train.shape"
   ]
  },
  {
   "cell_type": "code",
   "execution_count": 40,
   "metadata": {
    "colab": {
     "base_uri": "https://localhost:8080/"
    },
    "executionInfo": {
     "elapsed": 6436,
     "status": "ok",
     "timestamp": 1618183744296,
     "user": {
      "displayName": "да да",
      "photoUrl": "",
      "userId": "16305322804838559188"
     },
     "user_tz": -180
    },
    "id": "5GClDEfBqfvp",
    "outputId": "d4ab34ce-607a-45e2-9aab-78a5063d011c"
   },
   "outputs": [
    {
     "data": {
      "text/plain": [
       "(8038, 117)"
      ]
     },
     "execution_count": 40,
     "metadata": {
      "tags": []
     },
     "output_type": "execute_result"
    }
   ],
   "source": [
    "X_val.shape"
   ]
  },
  {
   "cell_type": "code",
   "execution_count": 41,
   "metadata": {
    "colab": {
     "base_uri": "https://localhost:8080/"
    },
    "executionInfo": {
     "elapsed": 6233,
     "status": "ok",
     "timestamp": 1618183744297,
     "user": {
      "displayName": "да да",
      "photoUrl": "",
      "userId": "16305322804838559188"
     },
     "user_tz": -180
    },
    "id": "tfWVkO19qfvp",
    "outputId": "2e455b80-f9b0-49e4-f574-7e7b9bd772ee"
   },
   "outputs": [
    {
     "data": {
      "text/plain": [
       "(4748, 117)"
      ]
     },
     "execution_count": 41,
     "metadata": {
      "tags": []
     },
     "output_type": "execute_result"
    }
   ],
   "source": [
    "X_test.shape"
   ]
  },
  {
   "cell_type": "markdown",
   "metadata": {
    "id": "Pd03zyUTZk5-"
   },
   "source": [
    "### Основной метрикой выбрана F-мера для метки 0, так как нам важно правильно предсказывать одобренные заявки, чтобы банк не нёс убытки и получал прибыль. "
   ]
  },
  {
   "cell_type": "markdown",
   "metadata": {
    "id": "JXpca_CDqfvp"
   },
   "source": [
    "# Logistic Regression"
   ]
  },
  {
   "cell_type": "markdown",
   "metadata": {
    "id": "x5qg4PjCpnPA"
   },
   "source": [
    "Функция для возвращения таблицы с метриками"
   ]
  },
  {
   "cell_type": "code",
   "execution_count": 52,
   "metadata": {
    "executionInfo": {
     "elapsed": 638,
     "status": "ok",
     "timestamp": 1618184681767,
     "user": {
      "displayName": "да да",
      "photoUrl": "",
      "userId": "16305322804838559188"
     },
     "user_tz": -180
    },
    "id": "2zP7jvhgqfvp"
   },
   "outputs": [],
   "source": [
    "def get_scores(report_df, model, X_test, y_test, name):\n",
    "\n",
    "    report = pd.DataFrame(columns={'ROC-AUC'}, data=[0])\n",
    "    report['ROC-AUC'] = roc_auc_score(y_test,\n",
    "                                      model.predict_proba(X_test)[:, 1])\n",
    "    y_pred = model.predict(X_test)\n",
    "    report['F1_0'] = f1_score(y_test, y_pred, pos_label= 0)\n",
    "    report['precision_0'] = precision_score(\n",
    "        y_test, y_pred, pos_label=0)\n",
    "    report['precision_1'] = precision_score(\n",
    "        y_test, y_pred, pos_label=1)\n",
    "    report['recall_0'] = recall_score(\n",
    "        y_test, y_pred, pos_label=0)\n",
    "    report['recall_1'] = recall_score(\n",
    "        y_test, y_pred, pos_label=1)\n",
    "\n",
    "    report.index = [name]\n",
    "    report_df = report_df.append(report)\n",
    "    return report_df"
   ]
  },
  {
   "cell_type": "markdown",
   "metadata": {
    "id": "R8Z1w5cUeAtP"
   },
   "source": [
    "Строю логистическую регрессию, c поиском подходящих гиперпараметров по сетке."
   ]
  },
  {
   "cell_type": "code",
   "execution_count": null,
   "metadata": {
    "id": "n6Xjmj9tqfvq"
   },
   "outputs": [],
   "source": [
    "%%time\n",
    "lr = LogisticRegression()\n",
    "f1_0 = make_scorer(f1_score, pos_label = 0)\n",
    "sss = StratifiedShuffleSplit(n_splits=5, random_state=10)\n",
    "param = {'C': np.linspace(0.001, 10, 10), 'class_weight': ['balanced', None], 'max_iter':[100, 200, 350]}\n",
    "\n",
    "gs_lr = GridSearchCV(lr, param, scoring= f1_0, cv = sss, verbose = 0)\n",
    "gs_lr.fit(X_train, y_train)"
   ]
  },
  {
   "cell_type": "code",
   "execution_count": 54,
   "metadata": {
    "colab": {
     "base_uri": "https://localhost:8080/"
    },
    "executionInfo": {
     "elapsed": 644892,
     "status": "ok",
     "timestamp": 1618185349684,
     "user": {
      "displayName": "да да",
      "photoUrl": "",
      "userId": "16305322804838559188"
     },
     "user_tz": -180
    },
    "id": "rMw-t_LQqfvr",
    "outputId": "79f67f84-3be4-4061-ea18-fa578cc66c7a"
   },
   "outputs": [
    {
     "data": {
      "text/plain": [
       "{'C': 7.7780000000000005, 'class_weight': 'balanced', 'max_iter': 100}"
      ]
     },
     "execution_count": 54,
     "metadata": {
      "tags": []
     },
     "output_type": "execute_result"
    }
   ],
   "source": [
    "gs_lr.best_params_"
   ]
  },
  {
   "cell_type": "code",
   "execution_count": 55,
   "metadata": {
    "executionInfo": {
     "elapsed": 639130,
     "status": "ok",
     "timestamp": 1618185349686,
     "user": {
      "displayName": "да да",
      "photoUrl": "",
      "userId": "16305322804838559188"
     },
     "user_tz": -180
    },
    "id": "9g5bQuioqfvt"
   },
   "outputs": [],
   "source": [
    "y_pred_proba = gs_lr.predict_proba(X_val)[:, 1]\n",
    "y_pred_lr = gs_lr.predict(X_val)\n",
    "df_report = pd.DataFrame(columns={'ROC-AUC'}, data=[0])\n",
    "\n",
    "df_report['ROC-AUC'] = roc_auc_score(y_val, y_pred_proba)\n",
    "df_report['F1_0'] = f1_score(y_val, y_pred_lr, pos_label = 0)\n",
    "df_report['precision_0'] = precision_score(y_val, y_pred_lr, pos_label=0)\n",
    "df_report['recall_0'] = recall_score(y_val, y_pred_lr, pos_label=0)\n",
    "df_report['precision_1'] = precision_score(y_val, y_pred_lr, pos_label=1)\n",
    "df_report['recall_1'] = recall_score(y_val, y_pred_lr, pos_label=1)\n",
    "\n",
    "df_report.index = ['LogisticRegression']"
   ]
  },
  {
   "cell_type": "code",
   "execution_count": 56,
   "metadata": {
    "colab": {
     "base_uri": "https://localhost:8080/",
     "height": 79
    },
    "executionInfo": {
     "elapsed": 638641,
     "status": "ok",
     "timestamp": 1618185349687,
     "user": {
      "displayName": "да да",
      "photoUrl": "",
      "userId": "16305322804838559188"
     },
     "user_tz": -180
    },
    "id": "wHauhVnRqfvt",
    "outputId": "2f960261-163e-4f7c-a3f1-b000717fa9f3"
   },
   "outputs": [
    {
     "data": {
      "text/html": [
       "<div>\n",
       "<style scoped>\n",
       "    .dataframe tbody tr th:only-of-type {\n",
       "        vertical-align: middle;\n",
       "    }\n",
       "\n",
       "    .dataframe tbody tr th {\n",
       "        vertical-align: top;\n",
       "    }\n",
       "\n",
       "    .dataframe thead th {\n",
       "        text-align: right;\n",
       "    }\n",
       "</style>\n",
       "<table border=\"1\" class=\"dataframe\">\n",
       "  <thead>\n",
       "    <tr style=\"text-align: right;\">\n",
       "      <th></th>\n",
       "      <th>ROC-AUC</th>\n",
       "      <th>F1_0</th>\n",
       "      <th>precision_0</th>\n",
       "      <th>recall_0</th>\n",
       "      <th>precision_1</th>\n",
       "      <th>recall_1</th>\n",
       "    </tr>\n",
       "  </thead>\n",
       "  <tbody>\n",
       "    <tr>\n",
       "      <th>LogisticRegression</th>\n",
       "      <td>0.822368</td>\n",
       "      <td>0.688314</td>\n",
       "      <td>0.615467</td>\n",
       "      <td>0.78072</td>\n",
       "      <td>0.849802</td>\n",
       "      <td>0.717793</td>\n",
       "    </tr>\n",
       "  </tbody>\n",
       "</table>\n",
       "</div>"
      ],
      "text/plain": [
       "                     ROC-AUC      F1_0  precision_0  recall_0  precision_1  \\\n",
       "LogisticRegression  0.822368  0.688314     0.615467   0.78072     0.849802   \n",
       "\n",
       "                    recall_1  \n",
       "LogisticRegression  0.717793  "
      ]
     },
     "execution_count": 56,
     "metadata": {
      "tags": []
     },
     "output_type": "execute_result"
    }
   ],
   "source": [
    "df_report"
   ]
  },
  {
   "cell_type": "markdown",
   "metadata": {
    "id": "_mhHmjnLlPfI"
   },
   "source": [
    "Применим oversampling для 0 класса и обучим логистическую регреессию."
   ]
  },
  {
   "cell_type": "code",
   "execution_count": 57,
   "metadata": {
    "colab": {
     "base_uri": "https://localhost:8080/"
    },
    "executionInfo": {
     "elapsed": 635623,
     "status": "ok",
     "timestamp": 1618185349688,
     "user": {
      "displayName": "да да",
      "photoUrl": "",
      "userId": "16305322804838559188"
     },
     "user_tz": -180
    },
    "id": "8g6GNvRtqfvu",
    "outputId": "cf03c5ce-268e-4d08-893a-fe238d686b2b"
   },
   "outputs": [
    {
     "name": "stderr",
     "output_type": "stream",
     "text": [
      "/usr/local/lib/python3.7/dist-packages/sklearn/utils/deprecation.py:87: FutureWarning: Function safe_indexing is deprecated; safe_indexing is deprecated in version 0.22 and will be removed in version 0.24.\n",
      "  warnings.warn(msg, category=FutureWarning)\n"
     ]
    }
   ],
   "source": [
    "oversample = RandomOverSampler(sampling_strategy=1.0)\n",
    "X_over, y_over = oversample.fit_resample(X_train, y_train)"
   ]
  },
  {
   "cell_type": "code",
   "execution_count": null,
   "metadata": {
    "id": "tT7aATyWqfvu"
   },
   "outputs": [],
   "source": [
    "f1_0 = make_scorer(f1_score, pos_label = 0)\n",
    "param = {'C': np.linspace(0.001, 10, 10), 'class_weight': ['balanced', None], 'max_iter':[100, 300]}\n",
    "sss = StratifiedShuffleSplit(n_splits=5, random_state=10)\n",
    "gs_over_samp_lr = GridSearchCV(lr, param, scoring= f1_0, cv = sss)\n",
    "gs_over_samp_lr.fit(X_over, y_over)"
   ]
  },
  {
   "cell_type": "code",
   "execution_count": 59,
   "metadata": {
    "executionInfo": {
     "elapsed": 1203156,
     "status": "ok",
     "timestamp": 1618185920724,
     "user": {
      "displayName": "да да",
      "photoUrl": "",
      "userId": "16305322804838559188"
     },
     "user_tz": -180
    },
    "id": "D0JXY3Ltqfvv"
   },
   "outputs": [],
   "source": [
    "df_report = get_scores(df_report, gs_over_samp_lr, X_val,\n",
    "                       y_val, 'LogisticRegression_over_samp')"
   ]
  },
  {
   "cell_type": "code",
   "execution_count": 60,
   "metadata": {
    "colab": {
     "base_uri": "https://localhost:8080/"
    },
    "executionInfo": {
     "elapsed": 1198835,
     "status": "ok",
     "timestamp": 1618185920726,
     "user": {
      "displayName": "да да",
      "photoUrl": "",
      "userId": "16305322804838559188"
     },
     "user_tz": -180
    },
    "id": "AwNdxLb9qfvv",
    "outputId": "517e4afe-2584-4d96-c79f-aaed99d0d2cc"
   },
   "outputs": [
    {
     "data": {
      "text/plain": [
       "{'C': 7.7780000000000005, 'class_weight': 'balanced', 'max_iter': 100}"
      ]
     },
     "execution_count": 60,
     "metadata": {
      "tags": []
     },
     "output_type": "execute_result"
    }
   ],
   "source": [
    "gs_over_samp_lr.best_params_"
   ]
  },
  {
   "cell_type": "code",
   "execution_count": 61,
   "metadata": {
    "colab": {
     "base_uri": "https://localhost:8080/",
     "height": 110
    },
    "executionInfo": {
     "elapsed": 1198255,
     "status": "ok",
     "timestamp": 1618185920730,
     "user": {
      "displayName": "да да",
      "photoUrl": "",
      "userId": "16305322804838559188"
     },
     "user_tz": -180
    },
    "id": "W5gyS2vuqfvv",
    "outputId": "d2821790-0c0d-4503-bde6-5bfd5b76d6ad"
   },
   "outputs": [
    {
     "data": {
      "text/html": [
       "<div>\n",
       "<style scoped>\n",
       "    .dataframe tbody tr th:only-of-type {\n",
       "        vertical-align: middle;\n",
       "    }\n",
       "\n",
       "    .dataframe tbody tr th {\n",
       "        vertical-align: top;\n",
       "    }\n",
       "\n",
       "    .dataframe thead th {\n",
       "        text-align: right;\n",
       "    }\n",
       "</style>\n",
       "<table border=\"1\" class=\"dataframe\">\n",
       "  <thead>\n",
       "    <tr style=\"text-align: right;\">\n",
       "      <th></th>\n",
       "      <th>ROC-AUC</th>\n",
       "      <th>F1_0</th>\n",
       "      <th>precision_0</th>\n",
       "      <th>recall_0</th>\n",
       "      <th>precision_1</th>\n",
       "      <th>recall_1</th>\n",
       "    </tr>\n",
       "  </thead>\n",
       "  <tbody>\n",
       "    <tr>\n",
       "      <th>LogisticRegression</th>\n",
       "      <td>0.822368</td>\n",
       "      <td>0.688314</td>\n",
       "      <td>0.615467</td>\n",
       "      <td>0.780720</td>\n",
       "      <td>0.849802</td>\n",
       "      <td>0.717793</td>\n",
       "    </tr>\n",
       "    <tr>\n",
       "      <th>LogisticRegression_over_samp</th>\n",
       "      <td>0.821920</td>\n",
       "      <td>0.687575</td>\n",
       "      <td>0.616192</td>\n",
       "      <td>0.777665</td>\n",
       "      <td>0.848380</td>\n",
       "      <td>0.719756</td>\n",
       "    </tr>\n",
       "  </tbody>\n",
       "</table>\n",
       "</div>"
      ],
      "text/plain": [
       "                               ROC-AUC      F1_0  precision_0  recall_0  \\\n",
       "LogisticRegression            0.822368  0.688314     0.615467  0.780720   \n",
       "LogisticRegression_over_samp  0.821920  0.687575     0.616192  0.777665   \n",
       "\n",
       "                              precision_1  recall_1  \n",
       "LogisticRegression               0.849802  0.717793  \n",
       "LogisticRegression_over_samp     0.848380  0.719756  "
      ]
     },
     "execution_count": 61,
     "metadata": {
      "tags": []
     },
     "output_type": "execute_result"
    }
   ],
   "source": [
    "df_report"
   ]
  },
  {
   "cell_type": "markdown",
   "metadata": {
    "id": "CcVlaOTeqfvw"
   },
   "source": [
    "# Random Forest"
   ]
  },
  {
   "cell_type": "markdown",
   "metadata": {
    "id": "0X4dh1bNsp8S"
   },
   "source": [
    "Строю random forest, c поиском подходящих гиперпараметров по сетке."
   ]
  },
  {
   "cell_type": "code",
   "execution_count": 62,
   "metadata": {
    "colab": {
     "base_uri": "https://localhost:8080/"
    },
    "executionInfo": {
     "elapsed": 388948,
     "status": "ok",
     "timestamp": 1618186309701,
     "user": {
      "displayName": "да да",
      "photoUrl": "",
      "userId": "16305322804838559188"
     },
     "user_tz": -180
    },
    "id": "4f5mo1M2qfvw",
    "outputId": "b7caf3a3-b6eb-40da-a03d-d1507b34c228"
   },
   "outputs": [
    {
     "name": "stdout",
     "output_type": "stream",
     "text": [
      "CPU times: user 6min 27s, sys: 1.46 s, total: 6min 28s\n",
      "Wall time: 6min 28s\n"
     ]
    }
   ],
   "source": [
    "%%time\n",
    "rf = RandomForestClassifier()\n",
    "sss = StratifiedShuffleSplit(n_splits=5, random_state=10)\n",
    "f1_0 = make_scorer(f1_score, pos_label = 1)\n",
    "param = {'n_estimators': [50, 100, 200, 300], 'class_weight': ['balanced', None]}\n",
    "\n",
    "gs_rf = GridSearchCV(rf, param, scoring= f1_0, cv = sss)\n",
    "gs_rf.fit(X_train, y_train)\n",
    "df_report = get_scores(df_report, gs_rf, X_val, y_val, 'RandomForestClassifier')"
   ]
  },
  {
   "cell_type": "code",
   "execution_count": 63,
   "metadata": {
    "colab": {
     "base_uri": "https://localhost:8080/"
    },
    "executionInfo": {
     "elapsed": 388928,
     "status": "ok",
     "timestamp": 1618186309703,
     "user": {
      "displayName": "да да",
      "photoUrl": "",
      "userId": "16305322804838559188"
     },
     "user_tz": -180
    },
    "id": "eshSShNEqfvw",
    "outputId": "78d8a07c-2895-46db-f828-28e872565cbf"
   },
   "outputs": [
    {
     "data": {
      "text/plain": [
       "{'class_weight': 'balanced', 'n_estimators': 300}"
      ]
     },
     "execution_count": 63,
     "metadata": {
      "tags": []
     },
     "output_type": "execute_result"
    }
   ],
   "source": [
    "gs_rf.best_params_"
   ]
  },
  {
   "cell_type": "code",
   "execution_count": 64,
   "metadata": {
    "colab": {
     "base_uri": "https://localhost:8080/",
     "height": 141
    },
    "executionInfo": {
     "elapsed": 388913,
     "status": "ok",
     "timestamp": 1618186309704,
     "user": {
      "displayName": "да да",
      "photoUrl": "",
      "userId": "16305322804838559188"
     },
     "user_tz": -180
    },
    "id": "tU3JPfURqfvx",
    "outputId": "29b171fc-c45c-4ed4-a084-7b0a9cfeb40e"
   },
   "outputs": [
    {
     "data": {
      "text/html": [
       "<div>\n",
       "<style scoped>\n",
       "    .dataframe tbody tr th:only-of-type {\n",
       "        vertical-align: middle;\n",
       "    }\n",
       "\n",
       "    .dataframe tbody tr th {\n",
       "        vertical-align: top;\n",
       "    }\n",
       "\n",
       "    .dataframe thead th {\n",
       "        text-align: right;\n",
       "    }\n",
       "</style>\n",
       "<table border=\"1\" class=\"dataframe\">\n",
       "  <thead>\n",
       "    <tr style=\"text-align: right;\">\n",
       "      <th></th>\n",
       "      <th>ROC-AUC</th>\n",
       "      <th>F1_0</th>\n",
       "      <th>precision_0</th>\n",
       "      <th>recall_0</th>\n",
       "      <th>precision_1</th>\n",
       "      <th>recall_1</th>\n",
       "    </tr>\n",
       "  </thead>\n",
       "  <tbody>\n",
       "    <tr>\n",
       "      <th>LogisticRegression</th>\n",
       "      <td>0.822368</td>\n",
       "      <td>0.688314</td>\n",
       "      <td>0.615467</td>\n",
       "      <td>0.780720</td>\n",
       "      <td>0.849802</td>\n",
       "      <td>0.717793</td>\n",
       "    </tr>\n",
       "    <tr>\n",
       "      <th>LogisticRegression_over_samp</th>\n",
       "      <td>0.821920</td>\n",
       "      <td>0.687575</td>\n",
       "      <td>0.616192</td>\n",
       "      <td>0.777665</td>\n",
       "      <td>0.848380</td>\n",
       "      <td>0.719756</td>\n",
       "    </tr>\n",
       "    <tr>\n",
       "      <th>RandomForestClassifier</th>\n",
       "      <td>0.958384</td>\n",
       "      <td>0.854884</td>\n",
       "      <td>0.886016</td>\n",
       "      <td>0.825866</td>\n",
       "      <td>0.903061</td>\n",
       "      <td>0.938531</td>\n",
       "    </tr>\n",
       "  </tbody>\n",
       "</table>\n",
       "</div>"
      ],
      "text/plain": [
       "                               ROC-AUC      F1_0  precision_0  recall_0  \\\n",
       "LogisticRegression            0.822368  0.688314     0.615467  0.780720   \n",
       "LogisticRegression_over_samp  0.821920  0.687575     0.616192  0.777665   \n",
       "RandomForestClassifier        0.958384  0.854884     0.886016  0.825866   \n",
       "\n",
       "                              precision_1  recall_1  \n",
       "LogisticRegression               0.849802  0.717793  \n",
       "LogisticRegression_over_samp     0.848380  0.719756  \n",
       "RandomForestClassifier           0.903061  0.938531  "
      ]
     },
     "execution_count": 64,
     "metadata": {
      "tags": []
     },
     "output_type": "execute_result"
    }
   ],
   "source": [
    "df_report"
   ]
  },
  {
   "cell_type": "markdown",
   "metadata": {
    "id": "8vjk2_uLtBwN"
   },
   "source": [
    "Применим oversampling для 0 класса и обучим random forest."
   ]
  },
  {
   "cell_type": "code",
   "execution_count": 65,
   "metadata": {
    "colab": {
     "base_uri": "https://localhost:8080/"
    },
    "executionInfo": {
     "elapsed": 927721,
     "status": "ok",
     "timestamp": 1618186848527,
     "user": {
      "displayName": "да да",
      "photoUrl": "",
      "userId": "16305322804838559188"
     },
     "user_tz": -180
    },
    "id": "5j7dsFefqfvx",
    "outputId": "29137aff-2a8d-4004-c34d-830bbc4b71ec"
   },
   "outputs": [
    {
     "name": "stdout",
     "output_type": "stream",
     "text": [
      "Fitting 5 folds for each of 8 candidates, totalling 40 fits\n"
     ]
    },
    {
     "name": "stderr",
     "output_type": "stream",
     "text": [
      "[Parallel(n_jobs=1)]: Using backend SequentialBackend with 1 concurrent workers.\n",
      "[Parallel(n_jobs=1)]: Done  40 out of  40 | elapsed:  8.6min finished\n"
     ]
    },
    {
     "name": "stdout",
     "output_type": "stream",
     "text": [
      "CPU times: user 8min 56s, sys: 2.9 s, total: 8min 59s\n",
      "Wall time: 8min 58s\n"
     ]
    }
   ],
   "source": [
    "%%time\n",
    "rf = RandomForestClassifier()\n",
    "f1_0 = make_scorer(f1_score, pos_label = 0)\n",
    "param = {'n_estimators': [50, 100, 200, 300], 'class_weight': ['balanced', None]}\n",
    "sss = StratifiedShuffleSplit(n_splits=5, random_state=10)\n",
    "gs_rf = GridSearchCV(rf, param, scoring=f1_0, verbose=1, cv=sss)\n",
    "\n",
    "gs_rf.fit(X_over, y_over)\n",
    "df_report = get_scores(df_report, gs_rf, X_val, y_val, 'RandomForestClassifier_over_sampl')"
   ]
  },
  {
   "cell_type": "code",
   "execution_count": 66,
   "metadata": {
    "colab": {
     "base_uri": "https://localhost:8080/"
    },
    "executionInfo": {
     "elapsed": 927724,
     "status": "ok",
     "timestamp": 1618186848536,
     "user": {
      "displayName": "да да",
      "photoUrl": "",
      "userId": "16305322804838559188"
     },
     "user_tz": -180
    },
    "id": "q4SWVM4ITU5C",
    "outputId": "8c779faf-45a3-4d68-9940-c71e45c0b27a"
   },
   "outputs": [
    {
     "data": {
      "text/plain": [
       "{'class_weight': None, 'n_estimators': 300}"
      ]
     },
     "execution_count": 66,
     "metadata": {
      "tags": []
     },
     "output_type": "execute_result"
    }
   ],
   "source": [
    "gs_rf.best_params_"
   ]
  },
  {
   "cell_type": "code",
   "execution_count": 67,
   "metadata": {
    "colab": {
     "base_uri": "https://localhost:8080/",
     "height": 171
    },
    "executionInfo": {
     "elapsed": 927714,
     "status": "ok",
     "timestamp": 1618186848538,
     "user": {
      "displayName": "да да",
      "photoUrl": "",
      "userId": "16305322804838559188"
     },
     "user_tz": -180
    },
    "id": "8SxiENIoqfvx",
    "outputId": "3acf4083-1a62-4f6e-8733-fb29e78f1bda"
   },
   "outputs": [
    {
     "data": {
      "text/html": [
       "<div>\n",
       "<style scoped>\n",
       "    .dataframe tbody tr th:only-of-type {\n",
       "        vertical-align: middle;\n",
       "    }\n",
       "\n",
       "    .dataframe tbody tr th {\n",
       "        vertical-align: top;\n",
       "    }\n",
       "\n",
       "    .dataframe thead th {\n",
       "        text-align: right;\n",
       "    }\n",
       "</style>\n",
       "<table border=\"1\" class=\"dataframe\">\n",
       "  <thead>\n",
       "    <tr style=\"text-align: right;\">\n",
       "      <th></th>\n",
       "      <th>ROC-AUC</th>\n",
       "      <th>F1_0</th>\n",
       "      <th>precision_0</th>\n",
       "      <th>recall_0</th>\n",
       "      <th>precision_1</th>\n",
       "      <th>recall_1</th>\n",
       "    </tr>\n",
       "  </thead>\n",
       "  <tbody>\n",
       "    <tr>\n",
       "      <th>LogisticRegression</th>\n",
       "      <td>0.822368</td>\n",
       "      <td>0.688314</td>\n",
       "      <td>0.615467</td>\n",
       "      <td>0.780720</td>\n",
       "      <td>0.849802</td>\n",
       "      <td>0.717793</td>\n",
       "    </tr>\n",
       "    <tr>\n",
       "      <th>LogisticRegression_over_samp</th>\n",
       "      <td>0.821920</td>\n",
       "      <td>0.687575</td>\n",
       "      <td>0.616192</td>\n",
       "      <td>0.777665</td>\n",
       "      <td>0.848380</td>\n",
       "      <td>0.719756</td>\n",
       "    </tr>\n",
       "    <tr>\n",
       "      <th>RandomForestClassifier</th>\n",
       "      <td>0.958384</td>\n",
       "      <td>0.854884</td>\n",
       "      <td>0.886016</td>\n",
       "      <td>0.825866</td>\n",
       "      <td>0.903061</td>\n",
       "      <td>0.938531</td>\n",
       "    </tr>\n",
       "    <tr>\n",
       "      <th>RandomForestClassifier_over_sampl</th>\n",
       "      <td>0.958709</td>\n",
       "      <td>0.857579</td>\n",
       "      <td>0.856707</td>\n",
       "      <td>0.858452</td>\n",
       "      <td>0.918010</td>\n",
       "      <td>0.916929</td>\n",
       "    </tr>\n",
       "  </tbody>\n",
       "</table>\n",
       "</div>"
      ],
      "text/plain": [
       "                                    ROC-AUC      F1_0  precision_0  recall_0  \\\n",
       "LogisticRegression                 0.822368  0.688314     0.615467  0.780720   \n",
       "LogisticRegression_over_samp       0.821920  0.687575     0.616192  0.777665   \n",
       "RandomForestClassifier             0.958384  0.854884     0.886016  0.825866   \n",
       "RandomForestClassifier_over_sampl  0.958709  0.857579     0.856707  0.858452   \n",
       "\n",
       "                                   precision_1  recall_1  \n",
       "LogisticRegression                    0.849802  0.717793  \n",
       "LogisticRegression_over_samp          0.848380  0.719756  \n",
       "RandomForestClassifier                0.903061  0.938531  \n",
       "RandomForestClassifier_over_sampl     0.918010  0.916929  "
      ]
     },
     "execution_count": 67,
     "metadata": {
      "tags": []
     },
     "output_type": "execute_result"
    }
   ],
   "source": [
    "df_report"
   ]
  },
  {
   "cell_type": "markdown",
   "metadata": {
    "id": "Yxvss2ukqfvy"
   },
   "source": [
    "# LightGBM"
   ]
  },
  {
   "cell_type": "markdown",
   "metadata": {
    "id": "Tu54BYsPtO4T"
   },
   "source": [
    "Строю lightgbm, c поиском подходящих гиперпараметров по сетке."
   ]
  },
  {
   "cell_type": "code",
   "execution_count": 68,
   "metadata": {
    "colab": {
     "base_uri": "https://localhost:8080/"
    },
    "executionInfo": {
     "elapsed": 1044222,
     "status": "ok",
     "timestamp": 1618186965058,
     "user": {
      "displayName": "да да",
      "photoUrl": "",
      "userId": "16305322804838559188"
     },
     "user_tz": -180
    },
    "id": "4S8YE8NDqfvy",
    "outputId": "d1f237a7-2d8e-48c2-ee87-ffe8795b9bd5"
   },
   "outputs": [
    {
     "name": "stdout",
     "output_type": "stream",
     "text": [
      "Fitting 5 folds for each of 24 candidates, totalling 120 fits\n"
     ]
    },
    {
     "name": "stderr",
     "output_type": "stream",
     "text": [
      "[Parallel(n_jobs=1)]: Using backend SequentialBackend with 1 concurrent workers.\n",
      "[Parallel(n_jobs=1)]: Done 120 out of 120 | elapsed:  1.9min finished\n"
     ]
    }
   ],
   "source": [
    "lgb = LGBMClassifier()\n",
    "f1_0 = make_scorer(f1_score, pos_label = 0)\n",
    "param = {'class_weight': ['balanced', None], 'learning rate': [0.0001, 0.01, 0.1],\\\n",
    "         'n_estimators': [100, 150, 300]}\n",
    "sss = StratifiedShuffleSplit(n_splits=5, random_state=10)\n",
    "gs_lgb = GridSearchCV(lgb, param, scoring= f1_0, verbose=1, cv = sss)\n",
    "\n",
    "gs_lgb.fit(X_train, y_train)\n",
    "df_report = get_scores(df_report, gs_lgb, X_val, y_val, 'LightGBM')"
   ]
  },
  {
   "cell_type": "code",
   "execution_count": 69,
   "metadata": {
    "colab": {
     "base_uri": "https://localhost:8080/"
    },
    "executionInfo": {
     "elapsed": 1044218,
     "status": "ok",
     "timestamp": 1618186965067,
     "user": {
      "displayName": "да да",
      "photoUrl": "",
      "userId": "16305322804838559188"
     },
     "user_tz": -180
    },
    "id": "nRtG1MVaqfvy",
    "outputId": "43bd2ec8-0a4d-43f8-d280-30e968583394"
   },
   "outputs": [
    {
     "data": {
      "text/plain": [
       "{'class_weight': 'balanced', 'learning rate': 0.0001, 'n_estimators': 300}"
      ]
     },
     "execution_count": 69,
     "metadata": {
      "tags": []
     },
     "output_type": "execute_result"
    }
   ],
   "source": [
    "gs_lgb.best_params_"
   ]
  },
  {
   "cell_type": "markdown",
   "metadata": {
    "id": "y--WvMyjtnkR"
   },
   "source": [
    "Применим oversampling для 0 класса и обучим lightgbm."
   ]
  },
  {
   "cell_type": "code",
   "execution_count": 70,
   "metadata": {
    "colab": {
     "base_uri": "https://localhost:8080/"
    },
    "executionInfo": {
     "elapsed": 1154167,
     "status": "ok",
     "timestamp": 1618187075028,
     "user": {
      "displayName": "да да",
      "photoUrl": "",
      "userId": "16305322804838559188"
     },
     "user_tz": -180
    },
    "id": "dVKVE63Fqfvz",
    "outputId": "22a49ed0-a552-4351-9661-dbff5d23fe0d"
   },
   "outputs": [
    {
     "name": "stdout",
     "output_type": "stream",
     "text": [
      "Fitting 5 folds for each of 18 candidates, totalling 90 fits\n"
     ]
    },
    {
     "name": "stderr",
     "output_type": "stream",
     "text": [
      "[Parallel(n_jobs=1)]: Using backend SequentialBackend with 1 concurrent workers.\n",
      "[Parallel(n_jobs=1)]: Done  90 out of  90 | elapsed:  1.8min finished\n"
     ]
    }
   ],
   "source": [
    "lgb_over = LGBMClassifier()\n",
    "f1_0 = make_scorer(f1_score, pos_label = 0)\n",
    "param = {'class_weight': ['balanced', None], 'learning rate': [0.0001, 0.01, 0.1],\\\n",
    "         'n_estimators': [100, 150, 300]}\n",
    "sss = StratifiedShuffleSplit(n_splits=5, random_state=10)\n",
    "\n",
    "gs_lgb_over = GridSearchCV(lgb_over, param, scoring= f1_0, verbose=1, cv = sss)\n",
    "gs_lgb_over.fit(X_over, y_over)\n",
    "df_report = get_scores(df_report, gs_lgb_over, X_val, y_val, 'LightGBM_over_sampl')"
   ]
  },
  {
   "cell_type": "code",
   "execution_count": 71,
   "metadata": {
    "colab": {
     "base_uri": "https://localhost:8080/",
     "height": 233
    },
    "executionInfo": {
     "elapsed": 1154166,
     "status": "ok",
     "timestamp": 1618187075039,
     "user": {
      "displayName": "да да",
      "photoUrl": "",
      "userId": "16305322804838559188"
     },
     "user_tz": -180
    },
    "id": "EYnxPaaEqfvz",
    "outputId": "3615e9f0-2732-4924-9a7d-02b7fa13ba7f"
   },
   "outputs": [
    {
     "data": {
      "text/html": [
       "<div>\n",
       "<style scoped>\n",
       "    .dataframe tbody tr th:only-of-type {\n",
       "        vertical-align: middle;\n",
       "    }\n",
       "\n",
       "    .dataframe tbody tr th {\n",
       "        vertical-align: top;\n",
       "    }\n",
       "\n",
       "    .dataframe thead th {\n",
       "        text-align: right;\n",
       "    }\n",
       "</style>\n",
       "<table border=\"1\" class=\"dataframe\">\n",
       "  <thead>\n",
       "    <tr style=\"text-align: right;\">\n",
       "      <th></th>\n",
       "      <th>ROC-AUC</th>\n",
       "      <th>F1_0</th>\n",
       "      <th>precision_0</th>\n",
       "      <th>recall_0</th>\n",
       "      <th>precision_1</th>\n",
       "      <th>recall_1</th>\n",
       "    </tr>\n",
       "  </thead>\n",
       "  <tbody>\n",
       "    <tr>\n",
       "      <th>LogisticRegression</th>\n",
       "      <td>0.822368</td>\n",
       "      <td>0.688314</td>\n",
       "      <td>0.615467</td>\n",
       "      <td>0.780720</td>\n",
       "      <td>0.849802</td>\n",
       "      <td>0.717793</td>\n",
       "    </tr>\n",
       "    <tr>\n",
       "      <th>LogisticRegression_over_samp</th>\n",
       "      <td>0.821920</td>\n",
       "      <td>0.687575</td>\n",
       "      <td>0.616192</td>\n",
       "      <td>0.777665</td>\n",
       "      <td>0.848380</td>\n",
       "      <td>0.719756</td>\n",
       "    </tr>\n",
       "    <tr>\n",
       "      <th>RandomForestClassifier</th>\n",
       "      <td>0.958384</td>\n",
       "      <td>0.854884</td>\n",
       "      <td>0.886016</td>\n",
       "      <td>0.825866</td>\n",
       "      <td>0.903061</td>\n",
       "      <td>0.938531</td>\n",
       "    </tr>\n",
       "    <tr>\n",
       "      <th>RandomForestClassifier_over_sampl</th>\n",
       "      <td>0.958709</td>\n",
       "      <td>0.857579</td>\n",
       "      <td>0.856707</td>\n",
       "      <td>0.858452</td>\n",
       "      <td>0.918010</td>\n",
       "      <td>0.916929</td>\n",
       "    </tr>\n",
       "    <tr>\n",
       "      <th>LightGBM</th>\n",
       "      <td>0.949311</td>\n",
       "      <td>0.839765</td>\n",
       "      <td>0.789018</td>\n",
       "      <td>0.897488</td>\n",
       "      <td>0.935566</td>\n",
       "      <td>0.861155</td>\n",
       "    </tr>\n",
       "    <tr>\n",
       "      <th>LightGBM_over_sampl</th>\n",
       "      <td>0.948857</td>\n",
       "      <td>0.840237</td>\n",
       "      <td>0.794376</td>\n",
       "      <td>0.891718</td>\n",
       "      <td>0.932572</td>\n",
       "      <td>0.866457</td>\n",
       "    </tr>\n",
       "  </tbody>\n",
       "</table>\n",
       "</div>"
      ],
      "text/plain": [
       "                                    ROC-AUC      F1_0  precision_0  recall_0  \\\n",
       "LogisticRegression                 0.822368  0.688314     0.615467  0.780720   \n",
       "LogisticRegression_over_samp       0.821920  0.687575     0.616192  0.777665   \n",
       "RandomForestClassifier             0.958384  0.854884     0.886016  0.825866   \n",
       "RandomForestClassifier_over_sampl  0.958709  0.857579     0.856707  0.858452   \n",
       "LightGBM                           0.949311  0.839765     0.789018  0.897488   \n",
       "LightGBM_over_sampl                0.948857  0.840237     0.794376  0.891718   \n",
       "\n",
       "                                   precision_1  recall_1  \n",
       "LogisticRegression                    0.849802  0.717793  \n",
       "LogisticRegression_over_samp          0.848380  0.719756  \n",
       "RandomForestClassifier                0.903061  0.938531  \n",
       "RandomForestClassifier_over_sampl     0.918010  0.916929  \n",
       "LightGBM                              0.935566  0.861155  \n",
       "LightGBM_over_sampl                   0.932572  0.866457  "
      ]
     },
     "execution_count": 71,
     "metadata": {
      "tags": []
     },
     "output_type": "execute_result"
    }
   ],
   "source": [
    "df_report"
   ]
  },
  {
   "cell_type": "markdown",
   "metadata": {
    "id": "sI9xOHAGqfvz"
   },
   "source": [
    "# CatBoost"
   ]
  },
  {
   "cell_type": "code",
   "execution_count": 74,
   "metadata": {
    "colab": {
     "base_uri": "https://localhost:8080/"
    },
    "executionInfo": {
     "elapsed": 240015,
     "status": "ok",
     "timestamp": 1618187498142,
     "user": {
      "displayName": "да да",
      "photoUrl": "",
      "userId": "16305322804838559188"
     },
     "user_tz": -180
    },
    "id": "x9LwJ57Qqfv0",
    "outputId": "70a52b6d-6b30-43eb-d2c6-7d5c4ab0a55b"
   },
   "outputs": [
    {
     "name": "stdout",
     "output_type": "stream",
     "text": [
      "Fitting 5 folds for each of 12 candidates, totalling 60 fits\n"
     ]
    },
    {
     "name": "stderr",
     "output_type": "stream",
     "text": [
      "[Parallel(n_jobs=1)]: Using backend SequentialBackend with 1 concurrent workers.\n",
      "[Parallel(n_jobs=1)]: Done  60 out of  60 | elapsed:  3.9min finished\n"
     ]
    }
   ],
   "source": [
    "cb = CatBoostClassifier()\n",
    "f1_0 = make_scorer(f1_score, pos_label = 0)\n",
    "param = {'learning_rate': [0.0001, 0.01, 0.1],\\\n",
    "         'n_estimators': [50, 100, 200, 300], 'verbose': [0]}\n",
    "sss = StratifiedShuffleSplit(n_splits=5, random_state=10)\n",
    "gs_cb = GridSearchCV(cb, param, scoring= f1_0, verbose=1, cv = sss)\n",
    "\n",
    "gs_cb.fit(X_train, y_train)\n",
    "df_report = get_scores(df_report, gs_cb, X_val, y_val, 'Catboost')"
   ]
  },
  {
   "cell_type": "code",
   "execution_count": 75,
   "metadata": {
    "colab": {
     "base_uri": "https://localhost:8080/"
    },
    "executionInfo": {
     "elapsed": 675,
     "status": "ok",
     "timestamp": 1618187498856,
     "user": {
      "displayName": "да да",
      "photoUrl": "",
      "userId": "16305322804838559188"
     },
     "user_tz": -180
    },
    "id": "Wv16vcGteheR",
    "outputId": "18b0a0c2-9b64-4f77-ad36-3e2bf2031ce5"
   },
   "outputs": [
    {
     "data": {
      "text/plain": [
       "{'learning_rate': 0.1, 'n_estimators': 300, 'verbose': 0}"
      ]
     },
     "execution_count": 75,
     "metadata": {
      "tags": []
     },
     "output_type": "execute_result"
    }
   ],
   "source": [
    "gs_cb.best_params_"
   ]
  },
  {
   "cell_type": "code",
   "execution_count": 76,
   "metadata": {
    "colab": {
     "base_uri": "https://localhost:8080/",
     "height": 264
    },
    "executionInfo": {
     "elapsed": 977,
     "status": "ok",
     "timestamp": 1618187499196,
     "user": {
      "displayName": "да да",
      "photoUrl": "",
      "userId": "16305322804838559188"
     },
     "user_tz": -180
    },
    "id": "FlpfOpNDqfv5",
    "outputId": "ef1501fe-3089-4e0f-cba4-4ed0bc8af4ce"
   },
   "outputs": [
    {
     "data": {
      "text/html": [
       "<div>\n",
       "<style scoped>\n",
       "    .dataframe tbody tr th:only-of-type {\n",
       "        vertical-align: middle;\n",
       "    }\n",
       "\n",
       "    .dataframe tbody tr th {\n",
       "        vertical-align: top;\n",
       "    }\n",
       "\n",
       "    .dataframe thead th {\n",
       "        text-align: right;\n",
       "    }\n",
       "</style>\n",
       "<table border=\"1\" class=\"dataframe\">\n",
       "  <thead>\n",
       "    <tr style=\"text-align: right;\">\n",
       "      <th></th>\n",
       "      <th>ROC-AUC</th>\n",
       "      <th>F1_0</th>\n",
       "      <th>precision_0</th>\n",
       "      <th>recall_0</th>\n",
       "      <th>precision_1</th>\n",
       "      <th>recall_1</th>\n",
       "    </tr>\n",
       "  </thead>\n",
       "  <tbody>\n",
       "    <tr>\n",
       "      <th>LogisticRegression</th>\n",
       "      <td>0.822368</td>\n",
       "      <td>0.688314</td>\n",
       "      <td>0.615467</td>\n",
       "      <td>0.780720</td>\n",
       "      <td>0.849802</td>\n",
       "      <td>0.717793</td>\n",
       "    </tr>\n",
       "    <tr>\n",
       "      <th>LogisticRegression_over_samp</th>\n",
       "      <td>0.821920</td>\n",
       "      <td>0.687575</td>\n",
       "      <td>0.616192</td>\n",
       "      <td>0.777665</td>\n",
       "      <td>0.848380</td>\n",
       "      <td>0.719756</td>\n",
       "    </tr>\n",
       "    <tr>\n",
       "      <th>RandomForestClassifier</th>\n",
       "      <td>0.958384</td>\n",
       "      <td>0.854884</td>\n",
       "      <td>0.886016</td>\n",
       "      <td>0.825866</td>\n",
       "      <td>0.903061</td>\n",
       "      <td>0.938531</td>\n",
       "    </tr>\n",
       "    <tr>\n",
       "      <th>RandomForestClassifier_over_sampl</th>\n",
       "      <td>0.958709</td>\n",
       "      <td>0.857579</td>\n",
       "      <td>0.856707</td>\n",
       "      <td>0.858452</td>\n",
       "      <td>0.918010</td>\n",
       "      <td>0.916929</td>\n",
       "    </tr>\n",
       "    <tr>\n",
       "      <th>LightGBM</th>\n",
       "      <td>0.949311</td>\n",
       "      <td>0.839765</td>\n",
       "      <td>0.789018</td>\n",
       "      <td>0.897488</td>\n",
       "      <td>0.935566</td>\n",
       "      <td>0.861155</td>\n",
       "    </tr>\n",
       "    <tr>\n",
       "      <th>LightGBM_over_sampl</th>\n",
       "      <td>0.948857</td>\n",
       "      <td>0.840237</td>\n",
       "      <td>0.794376</td>\n",
       "      <td>0.891718</td>\n",
       "      <td>0.932572</td>\n",
       "      <td>0.866457</td>\n",
       "    </tr>\n",
       "    <tr>\n",
       "      <th>Catboost</th>\n",
       "      <td>0.939687</td>\n",
       "      <td>0.802061</td>\n",
       "      <td>0.841536</td>\n",
       "      <td>0.766124</td>\n",
       "      <td>0.871359</td>\n",
       "      <td>0.916536</td>\n",
       "    </tr>\n",
       "  </tbody>\n",
       "</table>\n",
       "</div>"
      ],
      "text/plain": [
       "                                    ROC-AUC      F1_0  precision_0  recall_0  \\\n",
       "LogisticRegression                 0.822368  0.688314     0.615467  0.780720   \n",
       "LogisticRegression_over_samp       0.821920  0.687575     0.616192  0.777665   \n",
       "RandomForestClassifier             0.958384  0.854884     0.886016  0.825866   \n",
       "RandomForestClassifier_over_sampl  0.958709  0.857579     0.856707  0.858452   \n",
       "LightGBM                           0.949311  0.839765     0.789018  0.897488   \n",
       "LightGBM_over_sampl                0.948857  0.840237     0.794376  0.891718   \n",
       "Catboost                           0.939687  0.802061     0.841536  0.766124   \n",
       "\n",
       "                                   precision_1  recall_1  \n",
       "LogisticRegression                    0.849802  0.717793  \n",
       "LogisticRegression_over_samp          0.848380  0.719756  \n",
       "RandomForestClassifier                0.903061  0.938531  \n",
       "RandomForestClassifier_over_sampl     0.918010  0.916929  \n",
       "LightGBM                              0.935566  0.861155  \n",
       "LightGBM_over_sampl                   0.932572  0.866457  \n",
       "Catboost                              0.871359  0.916536  "
      ]
     },
     "execution_count": 76,
     "metadata": {
      "tags": []
     },
     "output_type": "execute_result"
    }
   ],
   "source": [
    "df_report"
   ]
  },
  {
   "cell_type": "code",
   "execution_count": 78,
   "metadata": {
    "colab": {
     "base_uri": "https://localhost:8080/"
    },
    "executionInfo": {
     "elapsed": 268605,
     "status": "ok",
     "timestamp": 1618187904245,
     "user": {
      "displayName": "да да",
      "photoUrl": "",
      "userId": "16305322804838559188"
     },
     "user_tz": -180
    },
    "id": "RIoIKF_Sqfv6",
    "outputId": "7da7d936-75a7-4e36-a779-08aa2d7b5310"
   },
   "outputs": [
    {
     "name": "stdout",
     "output_type": "stream",
     "text": [
      "Fitting 5 folds for each of 9 candidates, totalling 45 fits\n"
     ]
    },
    {
     "name": "stderr",
     "output_type": "stream",
     "text": [
      "[Parallel(n_jobs=1)]: Using backend SequentialBackend with 1 concurrent workers.\n",
      "[Parallel(n_jobs=1)]: Done  45 out of  45 | elapsed:  4.3min finished\n"
     ]
    }
   ],
   "source": [
    "cb = CatBoostClassifier()\n",
    "f1_0 = make_scorer(f1_score, pos_label = 0)\n",
    "param = {'learning_rate': [0.0001, 0.01, 0.1],\\\n",
    "         'n_estimators': [100, 200, 300], 'verbose': [0]}\n",
    "sss = StratifiedShuffleSplit(n_splits=5, random_state=10)\n",
    "\n",
    "gs_cb = GridSearchCV(cb, param, scoring=f1_0, verbose=1, cv=sss)\n",
    "gs_cb.fit(X_over, y_over)\n",
    "df_report = get_scores(df_report, gs_cb, X_val, y_val, 'Catboost_over_samp')"
   ]
  },
  {
   "cell_type": "code",
   "execution_count": 79,
   "metadata": {
    "colab": {
     "base_uri": "https://localhost:8080/",
     "height": 295
    },
    "executionInfo": {
     "elapsed": 266614,
     "status": "ok",
     "timestamp": 1618187904251,
     "user": {
      "displayName": "да да",
      "photoUrl": "",
      "userId": "16305322804838559188"
     },
     "user_tz": -180
    },
    "id": "ngb8ztEiqfv6",
    "outputId": "002af548-f2e2-445b-ec60-b37d27470f3b"
   },
   "outputs": [
    {
     "data": {
      "text/html": [
       "<div>\n",
       "<style scoped>\n",
       "    .dataframe tbody tr th:only-of-type {\n",
       "        vertical-align: middle;\n",
       "    }\n",
       "\n",
       "    .dataframe tbody tr th {\n",
       "        vertical-align: top;\n",
       "    }\n",
       "\n",
       "    .dataframe thead th {\n",
       "        text-align: right;\n",
       "    }\n",
       "</style>\n",
       "<table border=\"1\" class=\"dataframe\">\n",
       "  <thead>\n",
       "    <tr style=\"text-align: right;\">\n",
       "      <th></th>\n",
       "      <th>ROC-AUC</th>\n",
       "      <th>F1_0</th>\n",
       "      <th>precision_0</th>\n",
       "      <th>recall_0</th>\n",
       "      <th>precision_1</th>\n",
       "      <th>recall_1</th>\n",
       "    </tr>\n",
       "  </thead>\n",
       "  <tbody>\n",
       "    <tr>\n",
       "      <th>LogisticRegression</th>\n",
       "      <td>0.822368</td>\n",
       "      <td>0.688314</td>\n",
       "      <td>0.615467</td>\n",
       "      <td>0.780720</td>\n",
       "      <td>0.849802</td>\n",
       "      <td>0.717793</td>\n",
       "    </tr>\n",
       "    <tr>\n",
       "      <th>LogisticRegression_over_samp</th>\n",
       "      <td>0.821920</td>\n",
       "      <td>0.687575</td>\n",
       "      <td>0.616192</td>\n",
       "      <td>0.777665</td>\n",
       "      <td>0.848380</td>\n",
       "      <td>0.719756</td>\n",
       "    </tr>\n",
       "    <tr>\n",
       "      <th>RandomForestClassifier</th>\n",
       "      <td>0.958384</td>\n",
       "      <td>0.854884</td>\n",
       "      <td>0.886016</td>\n",
       "      <td>0.825866</td>\n",
       "      <td>0.903061</td>\n",
       "      <td>0.938531</td>\n",
       "    </tr>\n",
       "    <tr>\n",
       "      <th>RandomForestClassifier_over_sampl</th>\n",
       "      <td>0.958709</td>\n",
       "      <td>0.857579</td>\n",
       "      <td>0.856707</td>\n",
       "      <td>0.858452</td>\n",
       "      <td>0.918010</td>\n",
       "      <td>0.916929</td>\n",
       "    </tr>\n",
       "    <tr>\n",
       "      <th>LightGBM</th>\n",
       "      <td>0.949311</td>\n",
       "      <td>0.839765</td>\n",
       "      <td>0.789018</td>\n",
       "      <td>0.897488</td>\n",
       "      <td>0.935566</td>\n",
       "      <td>0.861155</td>\n",
       "    </tr>\n",
       "    <tr>\n",
       "      <th>LightGBM_over_sampl</th>\n",
       "      <td>0.948857</td>\n",
       "      <td>0.840237</td>\n",
       "      <td>0.794376</td>\n",
       "      <td>0.891718</td>\n",
       "      <td>0.932572</td>\n",
       "      <td>0.866457</td>\n",
       "    </tr>\n",
       "    <tr>\n",
       "      <th>Catboost</th>\n",
       "      <td>0.939687</td>\n",
       "      <td>0.802061</td>\n",
       "      <td>0.841536</td>\n",
       "      <td>0.766124</td>\n",
       "      <td>0.871359</td>\n",
       "      <td>0.916536</td>\n",
       "    </tr>\n",
       "    <tr>\n",
       "      <th>Catboost_over_samp</th>\n",
       "      <td>0.940225</td>\n",
       "      <td>0.821754</td>\n",
       "      <td>0.765222</td>\n",
       "      <td>0.887305</td>\n",
       "      <td>0.928170</td>\n",
       "      <td>0.842498</td>\n",
       "    </tr>\n",
       "  </tbody>\n",
       "</table>\n",
       "</div>"
      ],
      "text/plain": [
       "                                    ROC-AUC      F1_0  precision_0  recall_0  \\\n",
       "LogisticRegression                 0.822368  0.688314     0.615467  0.780720   \n",
       "LogisticRegression_over_samp       0.821920  0.687575     0.616192  0.777665   \n",
       "RandomForestClassifier             0.958384  0.854884     0.886016  0.825866   \n",
       "RandomForestClassifier_over_sampl  0.958709  0.857579     0.856707  0.858452   \n",
       "LightGBM                           0.949311  0.839765     0.789018  0.897488   \n",
       "LightGBM_over_sampl                0.948857  0.840237     0.794376  0.891718   \n",
       "Catboost                           0.939687  0.802061     0.841536  0.766124   \n",
       "Catboost_over_samp                 0.940225  0.821754     0.765222  0.887305   \n",
       "\n",
       "                                   precision_1  recall_1  \n",
       "LogisticRegression                    0.849802  0.717793  \n",
       "LogisticRegression_over_samp          0.848380  0.719756  \n",
       "RandomForestClassifier                0.903061  0.938531  \n",
       "RandomForestClassifier_over_sampl     0.918010  0.916929  \n",
       "LightGBM                              0.935566  0.861155  \n",
       "LightGBM_over_sampl                   0.932572  0.866457  \n",
       "Catboost                              0.871359  0.916536  \n",
       "Catboost_over_samp                    0.928170  0.842498  "
      ]
     },
     "execution_count": 79,
     "metadata": {
      "tags": []
     },
     "output_type": "execute_result"
    }
   ],
   "source": [
    "df_report"
   ]
  },
  {
   "cell_type": "markdown",
   "metadata": {
    "id": "-xCFw2W85yLM"
   },
   "source": [
    "# Neural network"
   ]
  },
  {
   "cell_type": "markdown",
   "metadata": {
    "id": "OussJ44_od_-"
   },
   "source": [
    "Также решил попробовать использовать многослойный персептрон, однако значение F1 для меток 0 оказалось равным 0.786 - это небольшое значение по сравнению с остальными построенными моделями."
   ]
  },
  {
   "cell_type": "code",
   "execution_count": null,
   "metadata": {
    "id": "OXTiroY_509M"
   },
   "outputs": [],
   "source": [
    "class MP(nn.Module):\n",
    "    def __init__(self, n_features):\n",
    "        super().__init__()\n",
    "        self.fc1 = nn.Linear(n_features, 50)\n",
    "        self.fc2 = nn.Linear(50, 20)\n",
    "        self.fc3 = nn.Linear(20, 2)\n",
    "        self.activation1 = nn.Tanh()\n",
    "        self.activation2 = nn.Softmax()\n",
    "    def forward(self, x):\n",
    "        x = self.activation1(self.fc1(x)).clone()\n",
    "        x = self.activation1(self.fc2(x)).clone()\n",
    "        x = self.activation2(self.fc3(x)).clone()\n",
    "        return x\n",
    "mp = MP(X_train.shape[1]).to('cuda')\n",
    "criterion = nn.CrossEntropyLoss()\n",
    "optimizer = optim.Adam(mp.parameters())"
   ]
  },
  {
   "cell_type": "code",
   "execution_count": null,
   "metadata": {
    "id": "UqxRSHbr61Fp"
   },
   "outputs": [],
   "source": [
    "batch_size = 32\n",
    "begin_train, end_train = [], []\n",
    "kolvo_steps = int(X_train.shape[0]/batch_size)\n",
    "for i in range(1, kolvo_steps + 2):\n",
    "        begin_train.append((i - 1)*batch_size)\n",
    "        end_train.append(i*batch_size if i != kolvo_steps + 1 else X_train.shape[0])"
   ]
  },
  {
   "cell_type": "code",
   "execution_count": null,
   "metadata": {
    "id": "bEd9fHKwBkSi"
   },
   "outputs": [],
   "source": [
    "def get_nn_results(y, output):\n",
    "    roc_auc = roc_auc_score(y, output)\n",
    "    f1_0 = f1_score(y, output, pos_label = 0)\n",
    "    precision_0 = precision_score(y, output, pos_label=0)\n",
    "    recall_0 = recall_score(y, output, pos_label=0)\n",
    "    print(f'roc-auc: {roc_auc}, F1_0: {f1_0}, precision_0: {precision_0},\\\n",
    "           recall_0: {recall_0}')\n",
    "    return f1_0"
   ]
  },
  {
   "cell_type": "code",
   "execution_count": null,
   "metadata": {
    "colab": {
     "base_uri": "https://localhost:8080/"
    },
    "executionInfo": {
     "elapsed": 163945,
     "status": "ok",
     "timestamp": 1618153480660,
     "user": {
      "displayName": "да да",
      "photoUrl": "",
      "userId": "16305322804838559188"
     },
     "user_tz": -180
    },
    "id": "pRXfThSO-SjB",
    "outputId": "4bac4a16-7d40-4b1f-9a58-9ba1ef3d6a88"
   },
   "outputs": [
    {
     "name": "stderr",
     "output_type": "stream",
     "text": [
      "/usr/local/lib/python3.7/dist-packages/ipykernel_launcher.py:12: UserWarning: Implicit dimension choice for softmax has been deprecated. Change the call to include dim=X as an argument.\n",
      "  if sys.path[0] == '':\n"
     ]
    },
    {
     "name": "stdout",
     "output_type": "stream",
     "text": [
      "163.36041808128357\n",
      "0.7856406733081416\n"
     ]
    }
   ],
   "source": [
    "import time\n",
    "\n",
    "t = time.time()\n",
    "nb_epoch = 100\n",
    "y_train_tensor = torch.LongTensor(y_train).to('cuda')\n",
    "max_f1_0 = 0\n",
    "for epoch in range(1, nb_epoch + 1):\n",
    "    t_for_epoch = time.time()\n",
    "    train_loss = 0\n",
    "    test_loss = 0\n",
    "    random_sample = np.random.permutation(range(X_train.shape[0]))\n",
    "    for i in range(len(begin_train)):\n",
    "        optimizer.zero_grad()\n",
    "        indices = random_sample[begin_train[i]: end_train[i]]\n",
    "        input = torch.Tensor(X_train[indices]).to('cuda')\n",
    "        output = mp(input)\n",
    "        loss = criterion(output, y_train_tensor[indices]).to('cuda')\n",
    "        loss.backward() \n",
    "        train_loss += loss.data.item()\n",
    "        optimizer.step()\n",
    "        torch.cuda.empty_cache()\n",
    "    random_sample = np.random.permutation(range(X_train.shape[0]))[:50000]\n",
    "    input = torch.Tensor(X_train[random_sample]).to('cuda')\n",
    "    output = torch.max(mp(input), 1)[1].cpu()\n",
    "    input = torch.Tensor(X_val).to('cuda')\n",
    "    output_val = torch.max(mp(input), 1)[1].cpu()\n",
    "    \n",
    "    f1_0 = f1_score(y_val, output_val, pos_label = 0)\n",
    "\n",
    "    if f1_0 > max_f1_0:\n",
    "        max_f1_0 = f1_0\n",
    "        #print(f\"epoch: {epoch}, training:\")\n",
    "        #get_nn_results(y_train[random_sample], output)\n",
    "        #print(f\"epoch: {epoch}, validating:\")\n",
    "        #get_nn_results(y_val, output_val)\n",
    "print(time.time() - t)\n",
    "print(max_f1_0)"
   ]
  },
  {
   "cell_type": "markdown",
   "metadata": {
    "id": "PhxPuPMPqRdo"
   },
   "source": [
    "# Итог"
   ]
  },
  {
   "cell_type": "markdown",
   "metadata": {
    "id": "soSos1nZMz3g"
   },
   "source": [
    "Как видно из таблицы результатов, алгоритм, который лучше всего себя показал на валидационных данных, это RandomForestClassifier с oversampling. Поэтому оценим предсказания данного алгоритма, c уже подобранными гиперпараметрами, на тестовых данных."
   ]
  },
  {
   "cell_type": "code",
   "execution_count": 102,
   "metadata": {
    "executionInfo": {
     "elapsed": 27936,
     "status": "ok",
     "timestamp": 1618188545443,
     "user": {
      "displayName": "да да",
      "photoUrl": "",
      "userId": "16305322804838559188"
     },
     "user_tz": -180
    },
    "id": "8ySO4xAzOW3y"
   },
   "outputs": [],
   "source": [
    "rf = RandomForestClassifier(n_estimators=300 , class_weight=None)\n",
    "rf.fit(X_over, y_over)\n",
    "df_report = get_scores(df_report, rf, X_test, y_test, 'RandomForestClassifier_over_sampl_on_test')"
   ]
  },
  {
   "cell_type": "code",
   "execution_count": 103,
   "metadata": {
    "colab": {
     "base_uri": "https://localhost:8080/",
     "height": 325
    },
    "executionInfo": {
     "elapsed": 27535,
     "status": "ok",
     "timestamp": 1618188545448,
     "user": {
      "displayName": "да да",
      "photoUrl": "",
      "userId": "16305322804838559188"
     },
     "user_tz": -180
    },
    "id": "g03ih6pQhgvG",
    "outputId": "ebd9811f-dcdf-42fe-ae32-b00a8bb7ba60"
   },
   "outputs": [
    {
     "data": {
      "text/html": [
       "<div>\n",
       "<style scoped>\n",
       "    .dataframe tbody tr th:only-of-type {\n",
       "        vertical-align: middle;\n",
       "    }\n",
       "\n",
       "    .dataframe tbody tr th {\n",
       "        vertical-align: top;\n",
       "    }\n",
       "\n",
       "    .dataframe thead th {\n",
       "        text-align: right;\n",
       "    }\n",
       "</style>\n",
       "<table border=\"1\" class=\"dataframe\">\n",
       "  <thead>\n",
       "    <tr style=\"text-align: right;\">\n",
       "      <th></th>\n",
       "      <th>ROC-AUC</th>\n",
       "      <th>F1_0</th>\n",
       "      <th>precision_0</th>\n",
       "      <th>recall_0</th>\n",
       "      <th>precision_1</th>\n",
       "      <th>recall_1</th>\n",
       "    </tr>\n",
       "  </thead>\n",
       "  <tbody>\n",
       "    <tr>\n",
       "      <th>LogisticRegression</th>\n",
       "      <td>0.822368</td>\n",
       "      <td>0.688314</td>\n",
       "      <td>0.615467</td>\n",
       "      <td>0.780720</td>\n",
       "      <td>0.849802</td>\n",
       "      <td>0.717793</td>\n",
       "    </tr>\n",
       "    <tr>\n",
       "      <th>LogisticRegression_over_samp</th>\n",
       "      <td>0.821920</td>\n",
       "      <td>0.687575</td>\n",
       "      <td>0.616192</td>\n",
       "      <td>0.777665</td>\n",
       "      <td>0.848380</td>\n",
       "      <td>0.719756</td>\n",
       "    </tr>\n",
       "    <tr>\n",
       "      <th>RandomForestClassifier</th>\n",
       "      <td>0.958384</td>\n",
       "      <td>0.854884</td>\n",
       "      <td>0.886016</td>\n",
       "      <td>0.825866</td>\n",
       "      <td>0.903061</td>\n",
       "      <td>0.938531</td>\n",
       "    </tr>\n",
       "    <tr>\n",
       "      <th>RandomForestClassifier_over_sampl</th>\n",
       "      <td>0.958709</td>\n",
       "      <td>0.857579</td>\n",
       "      <td>0.856707</td>\n",
       "      <td>0.858452</td>\n",
       "      <td>0.918010</td>\n",
       "      <td>0.916929</td>\n",
       "    </tr>\n",
       "    <tr>\n",
       "      <th>LightGBM</th>\n",
       "      <td>0.949311</td>\n",
       "      <td>0.839765</td>\n",
       "      <td>0.789018</td>\n",
       "      <td>0.897488</td>\n",
       "      <td>0.935566</td>\n",
       "      <td>0.861155</td>\n",
       "    </tr>\n",
       "    <tr>\n",
       "      <th>LightGBM_over_sampl</th>\n",
       "      <td>0.948857</td>\n",
       "      <td>0.840237</td>\n",
       "      <td>0.794376</td>\n",
       "      <td>0.891718</td>\n",
       "      <td>0.932572</td>\n",
       "      <td>0.866457</td>\n",
       "    </tr>\n",
       "    <tr>\n",
       "      <th>Catboost</th>\n",
       "      <td>0.939687</td>\n",
       "      <td>0.802061</td>\n",
       "      <td>0.841536</td>\n",
       "      <td>0.766124</td>\n",
       "      <td>0.871359</td>\n",
       "      <td>0.916536</td>\n",
       "    </tr>\n",
       "    <tr>\n",
       "      <th>Catboost_over_samp</th>\n",
       "      <td>0.940225</td>\n",
       "      <td>0.821754</td>\n",
       "      <td>0.765222</td>\n",
       "      <td>0.887305</td>\n",
       "      <td>0.928170</td>\n",
       "      <td>0.842498</td>\n",
       "    </tr>\n",
       "    <tr>\n",
       "      <th>RandomForestClassifier_over_sampl_on_test</th>\n",
       "      <td>0.942200</td>\n",
       "      <td>0.800580</td>\n",
       "      <td>0.790265</td>\n",
       "      <td>0.811168</td>\n",
       "      <td>0.923306</td>\n",
       "      <td>0.913493</td>\n",
       "    </tr>\n",
       "  </tbody>\n",
       "</table>\n",
       "</div>"
      ],
      "text/plain": [
       "                                            ROC-AUC      F1_0  precision_0  \\\n",
       "LogisticRegression                         0.822368  0.688314     0.615467   \n",
       "LogisticRegression_over_samp               0.821920  0.687575     0.616192   \n",
       "RandomForestClassifier                     0.958384  0.854884     0.886016   \n",
       "RandomForestClassifier_over_sampl          0.958709  0.857579     0.856707   \n",
       "LightGBM                                   0.949311  0.839765     0.789018   \n",
       "LightGBM_over_sampl                        0.948857  0.840237     0.794376   \n",
       "Catboost                                   0.939687  0.802061     0.841536   \n",
       "Catboost_over_samp                         0.940225  0.821754     0.765222   \n",
       "RandomForestClassifier_over_sampl_on_test  0.942200  0.800580     0.790265   \n",
       "\n",
       "                                           recall_0  precision_1  recall_1  \n",
       "LogisticRegression                         0.780720     0.849802  0.717793  \n",
       "LogisticRegression_over_samp               0.777665     0.848380  0.719756  \n",
       "RandomForestClassifier                     0.825866     0.903061  0.938531  \n",
       "RandomForestClassifier_over_sampl          0.858452     0.918010  0.916929  \n",
       "LightGBM                                   0.897488     0.935566  0.861155  \n",
       "LightGBM_over_sampl                        0.891718     0.932572  0.866457  \n",
       "Catboost                                   0.766124     0.871359  0.916536  \n",
       "Catboost_over_samp                         0.887305     0.928170  0.842498  \n",
       "RandomForestClassifier_over_sampl_on_test  0.811168     0.923306  0.913493  "
      ]
     },
     "execution_count": 103,
     "metadata": {
      "tags": []
     },
     "output_type": "execute_result"
    }
   ],
   "source": [
    "df_report"
   ]
  },
  {
   "cell_type": "code",
   "execution_count": 104,
   "metadata": {
    "colab": {
     "base_uri": "https://localhost:8080/",
     "height": 312
    },
    "executionInfo": {
     "elapsed": 27600,
     "status": "ok",
     "timestamp": 1618188546355,
     "user": {
      "displayName": "да да",
      "photoUrl": "",
      "userId": "16305322804838559188"
     },
     "user_tz": -180
    },
    "id": "TnHMEZWIqfv7",
    "outputId": "20067206-c8af-48d7-db40-6f5c1ee962cf",
    "scrolled": true
   },
   "outputs": [
    {
     "data": {
      "text/plain": [
       "Text(0.5, 1.0, 'Confusion matrix')"
      ]
     },
     "execution_count": 104,
     "metadata": {
      "tags": []
     },
     "output_type": "execute_result"
    },
    {
     "data": {
      "image/png": "[encoded data removed]",
      "text/plain": [
       "<Figure size 576x288 with 2 Axes>"
      ]
     },
     "metadata": {
      "needs_background": "light",
      "tags": []
     },
     "output_type": "display_data"
    }
   ],
   "source": [
    "y_pred_rf = rf.predict(X_test)\n",
    "conf_matrix = confusion_matrix(y_pred_rf, y_test)\n",
    "plt.figure(figsize=(8, 4))\n",
    "sns.heatmap(conf_matrix, \n",
    "            annot=True,\n",
    "            cmap=\"Blues\", \n",
    "            fmt=\"d\")\n",
    "plt.ylabel('Predicted')\n",
    "plt.xlabel('Actual')\n",
    "plt.title('Confusion matrix')"
   ]
  }
 ],
 "metadata": {
  "accelerator": "TPU",
  "colab": {
   "collapsed_sections": [
    "Pd03zyUTZk5-"
   ],
   "name": "Тестовое задание в devim.ipynb",
   "provenance": [],
   "toc_visible": true
  },
  "kernelspec": {
   "display_name": "Python 3",
   "language": "python",
   "name": "python3"
  },
  "language_info": {
   "codemirror_mode": {
    "name": "ipython",
    "version": 3
   },
   "file_extension": ".py",
   "mimetype": "text/x-python",
   "name": "python",
   "nbconvert_exporter": "python",
   "pygments_lexer": "ipython3",
   "version": "3.8.5"
  }
 },
 "nbformat": 4,
 "nbformat_minor": 4
}
